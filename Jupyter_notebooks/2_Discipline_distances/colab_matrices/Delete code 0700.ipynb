{
 "cells": [
  {
   "cell_type": "code",
   "execution_count": 1,
   "metadata": {},
   "outputs": [],
   "source": [
    "import numpy as np\n",
    "import os\n",
    " \n",
    "import matplotlib.pyplot as plt"
   ]
  },
  {
   "cell_type": "code",
   "execution_count": 3,
   "metadata": {},
   "outputs": [
    {
     "name": "stdout",
     "output_type": "stream",
     "text": [
      "2019 0.11224489795918367\n",
      "2020 0.12698412698412698\n",
      "2021 0.1933106575963719\n",
      "the whole matrix 2014-2021:\n",
      "cij = 0:  0.047619047619047616\n",
      "si < 1:  0.07142857142857142\n"
     ]
    }
   ],
   "source": [
    "def count_0(a):\n",
    "    count_0 = 0\n",
    "    for i in range(d.shape[0]):\n",
    "        for j in range(d.shape[0]):\n",
    "            if a[i][j] == 0:\n",
    "                count_0 += 1\n",
    "    return str(count_0/(a.shape[0]*a.shape[0]))\n",
    "    \n",
    "def count_si(a):\n",
    "    count_1 = 0\n",
    "    for i in range(a.shape[0]):\n",
    "        if a[i][i] < 1:\n",
    "                count_1 += 1\n",
    "    return str(count_1/a.shape[0])\n",
    "\n",
    "count_type= 'colab'\n",
    "# years =['2014', '2015', '2016', '2017', '2018', '2019', '2020', '2021']\n",
    "years =['2019', '2020', '2021']\n",
    "\n",
    "occ_matrix = np.zeros((42, 42))\n",
    "for y in years:\n",
    "    cur_path = os.getcwd()\n",
    "    filename = count_type + '_matrices/'+count_type + '_matrix_'+ y +'.txt'\n",
    "    new_path = os.path.relpath('..\\\\'+filename, cur_path)\n",
    "    d = np.loadtxt(new_path)\n",
    "    print(y, count_0(d))      \n",
    "    occ_matrix = occ_matrix + d\n",
    "\n",
    "print('the whole matrix 2014-2021:')\n",
    "print('cij = 0: ', count_0(occ_matrix))\n",
    "print('si < 1: ', count_si(occ_matrix))\n",
    "\n",
    "# diag = []\n",
    "# count_si = 0\n",
    "# yy = []\n",
    "# for i in range(occ_matrix.shape[0]):\n",
    "#     si = occ_matrix[i][i]\n",
    "#     diag.append(si)\n",
    "    \n",
    "#     if si == 0:\n",
    "#         count_si += 1\n",
    "#         print(si)\n",
    "        \n",
    "# print(count_si)\n",
    "# print(sum(diag)/len(diag))\n",
    "\n",
    "# plt.hist(diag, bins=50)\n",
    "# plt.show()\n",
    "\n",
    "#     output_file_name = count_type + '_matrices/'+'41_' + count_type + '_matrix_'+ y +'.txt'\n",
    "#     np.savetxt(r'C:\\Users\\lucp11051\\Documents\\Jupyter_notebooks\\2_Discipline_distances/' + output_file_name,d[:-1,:-1], fmt='%s')\n",
    "# d[:-1,:-1]"
   ]
  },
  {
   "cell_type": "code",
   "execution_count": null,
   "metadata": {},
   "outputs": [],
   "source": []
  }
 ],
 "metadata": {
  "kernelspec": {
   "display_name": "Python 3 (ipykernel)",
   "language": "python",
   "name": "python3"
  },
  "language_info": {
   "codemirror_mode": {
    "name": "ipython",
    "version": 3
   },
   "file_extension": ".py",
   "mimetype": "text/x-python",
   "name": "python",
   "nbconvert_exporter": "python",
   "pygments_lexer": "ipython3",
   "version": "3.7.9"
  }
 },
 "nbformat": 4,
 "nbformat_minor": 4
}
