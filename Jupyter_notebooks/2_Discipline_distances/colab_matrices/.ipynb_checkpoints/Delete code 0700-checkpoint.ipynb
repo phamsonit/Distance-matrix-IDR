{
 "cells": [
  {
   "cell_type": "code",
   "execution_count": 2,
   "metadata": {},
   "outputs": [],
   "source": [
    "import numpy as np\n",
    "import os\n",
    " \n",
    "import matplotlib.pyplot as plt"
   ]
  },
  {
   "cell_type": "code",
   "execution_count": 11,
   "metadata": {},
   "outputs": [
    {
     "ename": "TypeError",
     "evalue": "'int' object is not callable",
     "output_type": "error",
     "traceback": [
      "\u001b[1;31m---------------------------------------------------------------------------\u001b[0m",
      "\u001b[1;31mTypeError\u001b[0m                                 Traceback (most recent call last)",
      "\u001b[1;32m~\\AppData\\Local\\Temp\\ipykernel_17600\\2948159174.py\u001b[0m in \u001b[0;36m<module>\u001b[1;34m\u001b[0m\n\u001b[0;32m     20\u001b[0m     \u001b[0md\u001b[0m\u001b[1;33m=\u001b[0m\u001b[0mnp\u001b[0m\u001b[1;33m.\u001b[0m\u001b[0mloadtxt\u001b[0m\u001b[1;33m(\u001b[0m\u001b[0mnew_path\u001b[0m\u001b[1;33m)\u001b[0m\u001b[1;33m\u001b[0m\u001b[1;33m\u001b[0m\u001b[0m\n\u001b[0;32m     21\u001b[0m \u001b[1;33m\u001b[0m\u001b[0m\n\u001b[1;32m---> 22\u001b[1;33m     \u001b[0mc\u001b[0m \u001b[1;33m=\u001b[0m \u001b[0mcount_0\u001b[0m\u001b[1;33m(\u001b[0m\u001b[0md\u001b[0m\u001b[1;33m)\u001b[0m\u001b[1;33m\u001b[0m\u001b[1;33m\u001b[0m\u001b[0m\n\u001b[0m\u001b[0;32m     23\u001b[0m     \u001b[0mprint\u001b[0m\u001b[1;33m(\u001b[0m\u001b[0mc\u001b[0m\u001b[1;33m)\u001b[0m\u001b[1;33m\u001b[0m\u001b[1;33m\u001b[0m\u001b[0m\n\u001b[0;32m     24\u001b[0m \u001b[1;33m\u001b[0m\u001b[0m\n",
      "\u001b[1;31mTypeError\u001b[0m: 'int' object is not callable"
     ]
    }
   ],
   "source": [
    "def count_0(a):\n",
    "    count_0 = 0\n",
    "    for i in range(a.shap[0]):\n",
    "        for j in range(a.shape[0]):\n",
    "            if a[i][j] == 0:\n",
    "                count_0 += 1\n",
    "    return str(count_0)\n",
    "    \n",
    "\n",
    "count_type= 'colab'\n",
    "years =['2014', '2015', '2016', '2017', '2018', '2019', '2020', '2021']\n",
    "# years =['2019', '2020', '2021']\n",
    "\n",
    "occ_matrix = np.zeros((42, 42))\n",
    "for y in years:\n",
    "    count_0 = 0\n",
    "    cur_path = os.getcwd()\n",
    "    filename = count_type + '_matrices/'+count_type + '_matrix_'+ y +'.txt'\n",
    "    new_path = os.path.relpath('..\\\\'+filename, cur_path)\n",
    "    d = np.loadtxt(new_path)\n",
    "    \n",
    "    c = count_0(d)\n",
    "    print(c)\n",
    "            \n",
    "    occ_matrix = occ_matrix + d\n",
    "    \n",
    "# diag = []\n",
    "# count_si = 0\n",
    "# yy = []\n",
    "# for i in range(occ_matrix.shape[0]):\n",
    "#     si = occ_matrix[i][i]\n",
    "#     diag.append(si)\n",
    "    \n",
    "#     if si == 0:\n",
    "#         count_si += 1\n",
    "#         print(si)\n",
    "        \n",
    "# print(count_si)\n",
    "# print(sum(diag)/len(diag))\n",
    "\n",
    "# plt.hist(diag, bins=50)\n",
    "# plt.show()\n",
    "\n",
    "#     output_file_name = count_type + '_matrices/'+'41_' + count_type + '_matrix_'+ y +'.txt'\n",
    "#     np.savetxt(r'C:\\Users\\lucp11051\\Documents\\Jupyter_notebooks\\2_Discipline_distances/' + output_file_name,d[:-1,:-1], fmt='%s')\n",
    "# d[:-1,:-1]"
   ]
  },
  {
   "cell_type": "code",
   "execution_count": null,
   "metadata": {},
   "outputs": [],
   "source": []
  }
 ],
 "metadata": {
  "kernelspec": {
   "display_name": "Python 3 (ipykernel)",
   "language": "python",
   "name": "python3"
  },
  "language_info": {
   "codemirror_mode": {
    "name": "ipython",
    "version": 3
   },
   "file_extension": ".py",
   "mimetype": "text/x-python",
   "name": "python",
   "nbconvert_exporter": "python",
   "pygments_lexer": "ipython3",
   "version": "3.7.9"
  }
 },
 "nbformat": 4,
 "nbformat_minor": 4
}
