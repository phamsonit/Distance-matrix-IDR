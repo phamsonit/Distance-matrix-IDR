{
 "cells": [
  {
   "cell_type": "code",
   "execution_count": 2,
   "metadata": {},
   "outputs": [
    {
     "name": "stdout",
     "output_type": "stream",
     "text": [
      "length of data: 36234\n"
     ]
    }
   ],
   "source": [
    "import json\n",
    "import os\n",
    "cur_path = os.getcwd()\n",
    "filename = 'results-FRIS.json'\n",
    "new_path = os.path.relpath(filename, cur_path)\n",
    "\n",
    "# Opening JSON file\n",
    "f = open(new_path, )\n",
    "# returns JSON object as\n",
    "# a dictionary\n",
    "data = json.load(f)\n",
    "f.close()\n",
    "print('length of data: ' + str(len(data)))"
   ]
  }
 ],
 "metadata": {
  "kernelspec": {
   "display_name": "Python 3",
   "language": "python",
   "name": "python3"
  },
  "language_info": {
   "codemirror_mode": {
    "name": "ipython",
    "version": 3
   },
   "file_extension": ".py",
   "mimetype": "text/x-python",
   "name": "python",
   "nbconvert_exporter": "python",
   "pygments_lexer": "ipython3",
   "version": "3.8.5"
  }
 },
 "nbformat": 4,
 "nbformat_minor": 4
}
