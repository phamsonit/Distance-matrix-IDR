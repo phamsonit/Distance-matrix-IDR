{
 "cells": [
  {
   "cell_type": "code",
   "execution_count": 2,
   "metadata": {},
   "outputs": [],
   "source": [
    "import numpy as np\n",
    "import os"
   ]
  },
  {
   "cell_type": "code",
   "execution_count": 4,
   "metadata": {},
   "outputs": [
    {
     "data": {
      "text/plain": [
       "(41, 41)"
      ]
     },
     "execution_count": 4,
     "metadata": {},
     "output_type": "execute_result"
    }
   ],
   "source": [
    "count_type= 'project'\n",
    "years =['2014', '2015', '2016', '2017', '2018', '2019', '2020', '2021']\n",
    "\n",
    "for y in years:\n",
    "    cur_path = os.getcwd()\n",
    "    filename = count_type + '_matrices/'+count_type + '_matrix_'+ y +'.txt'\n",
    "    new_path = os.path.relpath('..\\\\'+filename, cur_path)\n",
    "    d=np.loadtxt(new_path)\n",
    "    output_file_name = count_type + '_matrices/'+'41_' + count_type + '_matrix_'+ y +'.txt'\n",
    "    np.savetxt(r'C:\\Users\\lucp11051\\Documents\\Jupyter_notebooks\\2_Discipline_distances/' + output_file_name,\n",
    "                   d[:-1,:-1], fmt='%s')\n",
    "d[:-1,:-1].shape"
   ]
  }
 ],
 "metadata": {
  "kernelspec": {
   "display_name": "Python 3",
   "language": "python",
   "name": "python3"
  },
  "language_info": {
   "codemirror_mode": {
    "name": "ipython",
    "version": 3
   },
   "file_extension": ".py",
   "mimetype": "text/x-python",
   "name": "python",
   "nbconvert_exporter": "python",
   "pygments_lexer": "ipython3",
   "version": "3.8.5"
  }
 },
 "nbformat": 4,
 "nbformat_minor": 4
}
