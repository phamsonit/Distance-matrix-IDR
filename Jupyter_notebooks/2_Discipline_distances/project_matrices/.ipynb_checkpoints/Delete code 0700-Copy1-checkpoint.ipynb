{
 "cells": [
  {
   "cell_type": "code",
   "execution_count": 2,
   "metadata": {},
   "outputs": [],
   "source": [
    "import numpy as np\n",
    "import os"
   ]
  },
  {
   "cell_type": "code",
   "execution_count": 21,
   "metadata": {},
   "outputs": [
    {
     "data": {
      "text/plain": [
       "array([[1.53239762e+01, 1.98302910e+01, 6.55732940e+00, ...,\n",
       "        1.33333333e-01, 1.10119048e-02, 0.00000000e+00],\n",
       "       [1.98302910e+01, 8.95400317e+01, 5.55987862e+00, ...,\n",
       "        8.28571429e-01, 4.04159382e+00, 5.19345238e-01],\n",
       "       [6.55732940e+00, 5.55987862e+00, 5.50059314e+01, ...,\n",
       "        0.00000000e+00, 2.36607143e-01, 3.12500000e-02],\n",
       "       ...,\n",
       "       [1.33333333e-01, 8.28571429e-01, 0.00000000e+00, ...,\n",
       "        5.32653061e+00, 1.89957265e+00, 3.20131258e-01],\n",
       "       [1.10119048e-02, 4.04159382e+00, 2.36607143e-01, ...,\n",
       "        1.89957265e+00, 1.01110638e+01, 1.30113412e+00],\n",
       "       [0.00000000e+00, 5.19345238e-01, 3.12500000e-02, ...,\n",
       "        3.20131258e-01, 1.30113412e+00, 2.82227388e-01]])"
      ]
     },
     "execution_count": 21,
     "metadata": {},
     "output_type": "execute_result"
    }
   ],
   "source": [
    "count_type= 'colab'\n",
    "years =['2014', '2015', '2016', '2017', '2018', '2019', '2020', '2021']\n",
    "\n",
    "for y in years:\n",
    "    cur_path = os.getcwd()\n",
    "    filename = count_type + '_matrices/'+count_type + '_matrix_'+ y +'.txt'\n",
    "    new_path = os.path.relpath('..\\\\'+filename, cur_path)\n",
    "    d=np.loadtxt(new_path)\n",
    "    output_file_name = count_type + '_matrices/'+'41_' + count_type + '_matrix_'+ y +'.txt'\n",
    "    np.savetxt(r'C:\\Users\\lucp11051\\Documents\\Jupyter_notebooks\\2_Discipline_distances/' + output_file_name,\n",
    "                   d[:-1,:-1], fmt='%s')\n",
    "d[:-1,:-1]"
   ]
  }
 ],
 "metadata": {
  "kernelspec": {
   "display_name": "Python 3",
   "language": "python",
   "name": "python3"
  },
  "language_info": {
   "codemirror_mode": {
    "name": "ipython",
    "version": 3
   },
   "file_extension": ".py",
   "mimetype": "text/x-python",
   "name": "python",
   "nbconvert_exporter": "python",
   "pygments_lexer": "ipython3",
   "version": "3.8.5"
  }
 },
 "nbformat": 4,
 "nbformat_minor": 4
}
