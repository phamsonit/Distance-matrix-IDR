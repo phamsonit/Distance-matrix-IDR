{
 "cells": [
  {
   "cell_type": "code",
   "execution_count": 1,
   "metadata": {},
   "outputs": [],
   "source": [
    "import pandas as pd\n",
    "import numpy as np"
   ]
  },
  {
   "cell_type": "markdown",
   "metadata": {},
   "source": [
    "# Uniform distance matrix"
   ]
  },
  {
   "cell_type": "code",
   "execution_count": 3,
   "metadata": {},
   "outputs": [],
   "source": [
    "np.savetxt('uniform_distance_matrix.txt', np.ones((42,42))-np.identity(42))"
   ]
  },
  {
   "cell_type": "markdown",
   "metadata": {},
   "source": [
    "# All matrices (also non-symmetric)"
   ]
  },
  {
   "cell_type": "markdown",
   "metadata": {},
   "source": [
    "## Cosine salton normalization"
   ]
  },
  {
   "cell_type": "code",
   "execution_count": 2,
   "metadata": {
    "scrolled": true
   },
   "outputs": [],
   "source": [
    "count_type = 'citation_flow'\n",
    "data = 'matrix15'\n",
    "# count_type = 'disc_in_a_person'\n",
    "# data = 'pub_2014'\n"
   ]
  },
  {
   "cell_type": "code",
   "execution_count": 3,
   "metadata": {},
   "outputs": [],
   "source": [
    "df = pd.read_table(count_type+'_'+data+'.txt', delim_whitespace=True, header=None)\n",
    "nb_of_disciplines = df.shape[0]  # 42\n",
    "\n",
    "\n",
    "cosine_sim_matrix=np.zeros((nb_of_disciplines, nb_of_disciplines))\n",
    "\n",
    "\n",
    "for i in range(nb_of_disciplines):\n",
    "    for j in range(nb_of_disciplines):\n",
    "        if sum(df.iloc[:,i]) == 0 or sum(df.iloc[:,j]) == 0:\n",
    "            if i == j:\n",
    "                cosine_sim_matrix[i,j]=1\n",
    "            else:\n",
    "                cosine_sim_matrix[i,j]=0\n",
    "        else:         \n",
    "            cosine_sim_matrix[i,j] = np.inner(df.iloc[:,i],df.iloc[:,j])/(np.inner(df.iloc[:,j],df.iloc[:,j])**(1/2)* np.inner(df.iloc[:,i],df.iloc[:,i])**(1/2))\n",
    "\n",
    "\n",
    "cosine_distance_matrix=np.round(1-cosine_sim_matrix,10)"
   ]
  },
  {
   "cell_type": "code",
   "execution_count": 4,
   "metadata": {},
   "outputs": [
    {
     "data": {
      "text/plain": [
       "array([[ 0.        ,  0.23285198,  0.75348531, ...,  1.        ,\n",
       "         1.        ,  1.        ],\n",
       "       [ 0.23285198,  0.        ,  0.75483777, ...,  1.        ,\n",
       "         1.        ,  1.        ],\n",
       "       [ 0.75348531,  0.75483777, -0.        , ...,  1.        ,\n",
       "         1.        ,  1.        ],\n",
       "       ...,\n",
       "       [ 1.        ,  1.        ,  1.        , ...,  0.        ,\n",
       "         1.        ,  1.        ],\n",
       "       [ 1.        ,  1.        ,  1.        , ...,  1.        ,\n",
       "         0.        ,  1.        ],\n",
       "       [ 1.        ,  1.        ,  1.        , ...,  1.        ,\n",
       "         1.        ,  0.        ]])"
      ]
     },
     "execution_count": 4,
     "metadata": {},
     "output_type": "execute_result"
    }
   ],
   "source": [
    "cosine_distance_matrix"
   ]
  },
  {
   "cell_type": "code",
   "execution_count": 5,
   "metadata": {},
   "outputs": [],
   "source": [
    "np.savetxt('cosine_distance_matrix_' + count_type + data + '.txt', cosine_distance_matrix)"
   ]
  },
  {
   "cell_type": "markdown",
   "metadata": {},
   "source": [
    "# Symmetric matrices"
   ]
  },
  {
   "cell_type": "markdown",
   "metadata": {},
   "source": [
    "## Jaccard index plus normalization"
   ]
  }
 ],
 "metadata": {
  "kernelspec": {
   "display_name": "Python 3",
   "language": "python",
   "name": "python3"
  },
  "language_info": {
   "codemirror_mode": {
    "name": "ipython",
    "version": 3
   },
   "file_extension": ".py",
   "mimetype": "text/x-python",
   "name": "python",
   "nbconvert_exporter": "python",
   "pygments_lexer": "ipython3",
   "version": "3.8.5"
  }
 },
 "nbformat": 4,
 "nbformat_minor": 4
}
