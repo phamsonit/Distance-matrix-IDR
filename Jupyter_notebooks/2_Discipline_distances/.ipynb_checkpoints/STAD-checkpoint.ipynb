{
 "cells": [
  {
   "cell_type": "code",
   "execution_count": 3,
   "metadata": {},
   "outputs": [
    {
     "name": "stdout",
     "output_type": "stream",
     "text": [
      "Launching server at http://localhost:51472\n"
     ]
    },
    {
     "data": {
      "text/plain": [
       "<bokeh.server.server.Server at 0x1eeba3eb6d0>"
      ]
     },
     "execution_count": 3,
     "metadata": {},
     "output_type": "execute_result"
    }
   ],
   "source": [
    "import stad\n",
    "import pandas as pd\n",
    "\n",
    "## Load the data\n",
    "url = 'https://gist.githubusercontent.com/jandot/a84c0505cdc8008a6e5ae5032532a39f/raw/d834527117fd204d33486998d10290251354d013/five_circles.csv'\n",
    "data = pd.read_csv(url, header=0)\n",
    "\n",
    "## Extract the values we want to use in our distance, the lens, and optional features\n",
    "values = data[['x','y']].values.tolist()\n",
    "lens = data['hue'].map(lambda x: stad.hex_to_hsv(x)[0]).values\n",
    "features={\n",
    "    'x': data['x'].values.tolist(),\n",
    "    'y': data['y'].values.tolist(),\n",
    "    'colour': data['hue'].values.tolist()\n",
    "}\n",
    "highD_dist_matrix = stad.calculate_highD_dist_matrix(values)\n",
    "# return (highD_dist_matrix, lens, features)\n",
    "\n",
    "## Create the distance matrix in the high_dimensional space. This can be using\n",
    "## cosine distance, euclidean, or any other.\n",
    "highD_dist_matrix = stad.calculate_highD_dist_matrix(values)\n",
    "\n",
    "## Run STAD and show the result\n",
    "g = stad.run_stad(highD_dist_matrix, lens=lens, features=features)\n",
    "stad.draw_stad(g)"
   ]
  }
 ],
 "metadata": {
  "kernelspec": {
   "display_name": "Python 3",
   "language": "python",
   "name": "python3"
  },
  "language_info": {
   "codemirror_mode": {
    "name": "ipython",
    "version": 3
   },
   "file_extension": ".py",
   "mimetype": "text/x-python",
   "name": "python",
   "nbconvert_exporter": "python",
   "pygments_lexer": "ipython3",
   "version": "3.8.5"
  }
 },
 "nbformat": 4,
 "nbformat_minor": 4
}
