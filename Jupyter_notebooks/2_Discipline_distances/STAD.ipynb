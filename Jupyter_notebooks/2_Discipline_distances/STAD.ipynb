{
 "cells": [
  {
   "cell_type": "code",
   "execution_count": 16,
   "metadata": {},
   "outputs": [],
   "source": [
    "import stad\n",
    "import pandas as pd\n",
    "import numpy as np\n",
    "import os"
   ]
  },
  {
   "cell_type": "code",
   "execution_count": 2,
   "metadata": {
    "scrolled": true
   },
   "outputs": [
    {
     "name": "stdout",
     "output_type": "stream",
     "text": [
      "Launching server at http://localhost:61140\n"
     ]
    },
    {
     "data": {
      "text/plain": [
       "<bokeh.server.server.Server at 0x20e775f52b0>"
      ]
     },
     "execution_count": 2,
     "metadata": {},
     "output_type": "execute_result"
    }
   ],
   "source": [
    "\n",
    "## Load the data\n",
    "url = 'https://gist.githubusercontent.com/jandot/a84c0505cdc8008a6e5ae5032532a39f/raw/d834527117fd204d33486998d10290251354d013/five_circles.csv'\n",
    "data = pd.read_csv(url, header=0)\n",
    "\n",
    "## Extract the values we want to use in our distance, the lens, and optional features\n",
    "values = data[['x','y']].values.tolist()\n",
    "lens = data['hue'].map(lambda x: stad.hex_to_hsv(x)[0]).values\n",
    "features={\n",
    "    'x': data['x'].values.tolist(),\n",
    "    'y': data['y'].values.tolist(),\n",
    "    'colour': data['hue'].values.tolist()\n",
    "}\n",
    "highD_dist_matrix = stad.calculate_highD_dist_matrix(values)\n",
    "# return (highD_dist_matrix, lens, features)\n",
    "\n",
    "## Create the distance matrix in the high_dimensional space. This can be using\n",
    "## cosine distance, euclidean, or any other.\n",
    "highD_dist_matrix = stad.calculate_highD_dist_matrix(values)\n",
    "\n",
    "## Run STAD and show the result\n",
    "g = stad.run_stad(highD_dist_matrix, lens=lens, features=features)\n",
    "stad.draw_stad(g)"
   ]
  },
  {
   "cell_type": "code",
   "execution_count": 3,
   "metadata": {
    "scrolled": true
   },
   "outputs": [
    {
     "data": {
      "text/plain": [
       "array([0.48209366, 0.45959596, 0.44029851, 0.49122807, 0.52083333,\n",
       "       0.47244094, 0.54208754, 0.45273632, 0.56989247, 0.41731266,\n",
       "       0.59689922, 0.38235294, 0.63596491, 0.31432749, 0.68518519,\n",
       "       0.25768322, 0.72435897, 0.21696252, 0.75813008, 0.18461538,\n",
       "       0.78769841, 0.15801887, 0.78313253, 0.15123457, 0.74593496,\n",
       "       0.17159278, 0.71052632, 0.20165746, 0.66908213, 0.24111111,\n",
       "       0.62083333, 0.28763441, 0.58712121, 0.35585586, 0.55964912,\n",
       "       0.4047619 , 0.53465347, 0.51587302, 0.49122807, 0.49122807,\n",
       "       0.46564885, 0.51428571, 0.43905473, 0.53465347, 0.40813648,\n",
       "       0.55729167, 0.35285285, 0.58712121, 0.29722222, 0.61875   ,\n",
       "       0.24662162, 0.65952381, 0.20599251, 0.70833333, 0.17666667,\n",
       "       0.74074074, 0.15342679, 0.77235772, 0.15420561, 0.79960317,\n",
       "       0.17922948, 0.76422764, 0.21072797, 0.73662551, 0.24942529,\n",
       "       0.69594595, 0.29132791, 0.64840183, 0.36666667, 0.61382114,\n",
       "       0.40813648, 0.57777778, 0.44029851, 0.55154639, 0.46310433,\n",
       "       0.53135314, 0.48333333, 0.50934579, 0.49122807, 0.49122807,\n",
       "       0.47831978, 0.45864662, 0.42929293, 0.37570621, 0.28703704,\n",
       "       0.20738636, 0.16344605, 0.16188198, 0.20738636, 0.27864583,\n",
       "       0.36956522, 0.42676768, 0.45739348, 0.47486772, 0.48860399,\n",
       "       0.48459384, 0.4795082 , 0.47244094, 0.45522388, 0.42424242,\n",
       "       0.37955182, 0.28703704, 0.21470588, 0.16666667, 0.1572327 ,\n",
       "       0.20277778, 0.26593137, 0.35285285, 0.41472868, 0.44814815,\n",
       "       0.46564885, 0.47486772, 0.47831978, 0.50311526, 0.51428571,\n",
       "       0.52777778, 0.54982818, 0.582397  , 0.63203463, 0.70175439,\n",
       "       0.75813008, 0.78968254, 0.73662551, 0.67380952, 0.60843373,\n",
       "       0.56560284, 0.54      , 0.52083333, 0.50934579, 0.49122807,\n",
       "       0.50471698, 0.52427184, 0.55154639, 0.59689922, 0.6463964 ,\n",
       "       0.71794872, 0.77108434, 0.7811245 , 0.72008547, 0.64222222,\n",
       "       0.58901515, 0.55555556, 0.52588997, 0.50778816, 0.49122807,\n",
       "       0.48209366, 0.49122807, 0.51428571, 0.46310433, 0.44029851,\n",
       "       0.53465347, 0.40266667, 0.55555556, 0.35151515, 0.58712121,\n",
       "       0.29132791, 0.62083333, 0.23593074, 0.66908213, 0.1996337 ,\n",
       "       0.71052632, 0.17409241, 0.74897119, 0.14969136, 0.77710843,\n",
       "       0.16031746, 0.79116466, 0.18461538, 0.76219512, 0.2188755 ,\n",
       "       0.72435897, 0.26520681, 0.68075117, 0.31696429, 0.63203463,\n",
       "       0.38235294, 0.60119048, 0.42179487, 0.56810036, 0.45273632,\n",
       "       0.54377104, 0.47375328, 0.52083333, 0.49122807, 0.4795082 ,\n",
       "       0.45864662, 0.5330033 , 0.51100629, 0.49122807, 0.43656716,\n",
       "       0.55381944, 0.58712121, 0.40266667, 0.61382114, 0.65277778,\n",
       "       0.70175439, 0.73662551, 0.77235772, 0.80120482, 0.77235772,\n",
       "       0.74279835, 0.70175439, 0.65952381, 0.61875   , 0.58426966,\n",
       "       0.55729167, 0.53465347, 0.51428571, 0.49122807, 0.46310433,\n",
       "       0.44029851, 0.40885417, 0.36283186, 0.29722222, 0.24942529,\n",
       "       0.20621469, 0.180067  , 0.15348837, 0.14969136, 0.17578773,\n",
       "       0.20484171, 0.24384787, 0.28897849, 0.35988201])"
      ]
     },
     "execution_count": 3,
     "metadata": {},
     "output_type": "execute_result"
    }
   ],
   "source": [
    "lens"
   ]
  },
  {
   "cell_type": "code",
   "execution_count": 4,
   "metadata": {
    "code_folding": [
     0
    ]
   },
   "outputs": [],
   "source": [
    "# VODS disciplines names:\n",
    "discipline_names =['Mathematical sciences',\n",
    "'Information and computing sciences',\n",
    "'Physical sciences',\n",
    "'Chemical sciences',\n",
    "'Earth sciences',\n",
    "'Biological sciences',\n",
    "'Environmental sciences',\n",
    "'Other natural sciences',\n",
    "'Civil and building engineering',\n",
    "'Electrical and electronic engineering',\n",
    "'Mechanical and manufacturing engineering',\n",
    "'(Bio)chemical engineering',\n",
    "'Materials engineering',\n",
    "'(Bio)medical engineering',\n",
    "'Biotechnology, bio-engineering and biosystems engineering',\n",
    "'Computer engineering, information technology and mathematical engineering',\n",
    "'Other engineering and technology',\n",
    "'Basic sciences',\n",
    "'Clinical sciences',\n",
    "'Health sciences',\n",
    "'Paramedical sciences',\n",
    "'Pharmaceutical sciences',\n",
    "'Translational sciences',\n",
    "'Other medical and health sciences',\n",
    "'Agriculture, forestry, fisheries and allied sciences',\n",
    "'Veterinary sciences',\n",
    "'Other agricultural, veterinary and food sciences',\n",
    "'Psychology and cognitive sciences',\n",
    "'Economics and business',\n",
    "'Pedagogical and educational sciences',\n",
    "'Sociology and anthropology',\n",
    "'Law and legal studies',\n",
    "'Political sciences',\n",
    "'Social and economic geography',\n",
    "'Media and communications',\n",
    "'Other social sciences',\n",
    "'History and archaeology',\n",
    "'Languages and literary studies',\n",
    "'Philosophy, ethics and religious studies',\n",
    "'Arts',\n",
    "'Other humanities and the arts',\n",
    "'General and logistic services']"
   ]
  },
  {
   "cell_type": "code",
   "execution_count": 5,
   "metadata": {
    "code_folding": [
     0
    ]
   },
   "outputs": [],
   "source": [
    "# VODS disciplines codes:\n",
    "discipline_codes=['0101',\n",
    "'0102',\n",
    "'0103',\n",
    "'0104',\n",
    "'0105',\n",
    "'0106',\n",
    "'0107',\n",
    "'0199',\n",
    "'0201',\n",
    "'0202',\n",
    "'0203',\n",
    "'0204',\n",
    "'0205',\n",
    "'0206',\n",
    "'0207',\n",
    "'0208',\n",
    "'0299',\n",
    "'0301',\n",
    "'0302',\n",
    "'0303',\n",
    "'0304',\n",
    "'0305',\n",
    "'0306',\n",
    "'0399',\n",
    "'0401',\n",
    "'0402',\n",
    "'0499',\n",
    "'0501',\n",
    "'0502',\n",
    "'0503',\n",
    "'0504',\n",
    "'0505',\n",
    "'0506',\n",
    "'0507',\n",
    "'0508',\n",
    "'0599',\n",
    "'0601',\n",
    "'0602',\n",
    "'0603',\n",
    "'0604',\n",
    "'0699',\n",
    "'0700']\n"
   ]
  },
  {
   "cell_type": "code",
   "execution_count": 6,
   "metadata": {},
   "outputs": [],
   "source": [
    "feat = {'codes': discipline_codes, 'disciplines':  discipline_names}\n",
    "feat_41 =  {'codes': discipline_codes[:-1], 'disciplines':  discipline_names[:-1]}"
   ]
  },
  {
   "cell_type": "code",
   "execution_count": 7,
   "metadata": {
    "code_folding": []
   },
   "outputs": [],
   "source": [
    "from ast import literal_eval\n",
    "lens1=[]\n",
    "for code in discipline_codes:\n",
    "    n= literal_eval(code[1:2])\n",
    "    if n <= 6:\n",
    "        lens1 = lens1 + [1/6*n]\n",
    "    elif n == 6:\n",
    "        lens1 = lens1 + [0.55]\n",
    "    elif n == 7:\n",
    "        lens1 = lens1 + [0]\n",
    "lens1=np.array(lens1)"
   ]
  },
  {
   "cell_type": "code",
   "execution_count": 8,
   "metadata": {
    "code_folding": []
   },
   "outputs": [],
   "source": [
    "from ast import literal_eval\n",
    "lens1=[]\n",
    "for code in discipline_codes:\n",
    "    n= literal_eval(code[1:2])\n",
    "    if n == 1:\n",
    "        lens1 = lens1 + [0.1]\n",
    "    if n == 2:\n",
    "        lens1 = lens1 + [0.2]\n",
    "    if n == 3:\n",
    "        lens1 = lens1 + [0.3]\n",
    "    if n == 4:\n",
    "        lens1 = lens1 + [0.4]\n",
    "    if n == 5:\n",
    "        lens1 = lens1 + [0.5]\n",
    "    elif n == 6:\n",
    "        lens1 = lens1 + [0.9]\n",
    "    elif n == 7:\n",
    "        lens1 = lens1 + [0]"
   ]
  },
  {
   "cell_type": "code",
   "execution_count": 17,
   "metadata": {},
   "outputs": [],
   "source": [
    "# load distance matrix M (between disciplines)\n",
    "count_type = 'disc_in_a_person'\n",
    "data = 'pub_2014'\n",
    "cur_path = os.getcwd()\n",
    "filename ='dm_cosine_' + count_type + '_' + data+  '.txt'\n",
    "new_path = os.path.relpath('..\\\\2_Discipline_distances/'+filename, cur_path)\n",
    "M= np.loadtxt(new_path)\n",
    "\n",
    "g = stad.run_stad(M, lens=lens1,  features=feat)\n",
    "stad.draw_stad(g)"
   ]
  },
  {
   "cell_type": "code",
   "execution_count": 19,
   "metadata": {},
   "outputs": [
    {
     "name": "stdout",
     "output_type": "stream",
     "text": [
      "Launching server at http://localhost:61182\n"
     ]
    },
    {
     "data": {
      "text/plain": [
       "<bokeh.server.server.Server at 0x20e77d71100>"
      ]
     },
     "execution_count": 19,
     "metadata": {},
     "output_type": "execute_result"
    }
   ],
   "source": [
    "# load distance matrix M (between disciplines)\n",
    "count_type = 'colab'\n",
    "data = 'projects'\n",
    "cur_path = os.getcwd()\n",
    "filename ='dm_cosine_' + count_type + '_' + data+  '.txt'\n",
    "new_path = os.path.relpath('..\\\\2_Discipline_distances/'+filename, cur_path)\n",
    "M = np.loadtxt(new_path)\n",
    "\n",
    "g = stad.run_stad(M, lens=lens1,  features=feat)\n",
    "stad.draw_stad(g)"
   ]
  },
  {
   "cell_type": "code",
   "execution_count": 20,
   "metadata": {},
   "outputs": [
    {
     "name": "stdout",
     "output_type": "stream",
     "text": [
      "Launching server at http://localhost:61201\n"
     ]
    },
    {
     "data": {
      "text/plain": [
       "<bokeh.server.server.Server at 0x20e78e41f70>"
      ]
     },
     "execution_count": 20,
     "metadata": {},
     "output_type": "execute_result"
    }
   ],
   "source": [
    "# load distance matrix M (between disciplines)\n",
    "count_type = 'colab'\n",
    "data = 'projects'\n",
    "cur_path = os.getcwd()\n",
    "filename ='dm_jaccard_' + count_type + '_' + data+  '.txt'\n",
    "new_path = os.path.relpath('..\\\\2_Discipline_distances/'+filename, cur_path)\n",
    "M = np.loadtxt(new_path)\n",
    "\n",
    "g = stad.run_stad(M, lens=lens1,  features=feat)\n",
    "stad.draw_stad(g)"
   ]
  },
  {
   "cell_type": "code",
   "execution_count": 11,
   "metadata": {},
   "outputs": [
    {
     "name": "stdout",
     "output_type": "stream",
     "text": [
      "(100, 10)\n"
     ]
    }
   ],
   "source": [
    "#importing necessary packages\n",
    "import numpy as np  \n",
    "import scipy\n",
    "import matplotlib.pyplot as plt\n",
    "from sklearn.metrics import pairwise_distances #jaccard diss.\n",
    "from sklearn import manifold  # multidimensional scaling\n",
    "foods_binary = np.random.randint(2, size=(100, 10)) #initial dataset\n",
    "print(foods_binary.shape)\n",
    "\n"
   ]
  },
  {
   "cell_type": "code",
   "execution_count": 12,
   "metadata": {},
   "outputs": [
    {
     "name": "stdout",
     "output_type": "stream",
     "text": [
      "(100, 100)\n"
     ]
    },
    {
     "name": "stderr",
     "output_type": "stream",
     "text": [
      "C:\\Users\\lucp11051\\Anaconda3\\lib\\site-packages\\sklearn\\metrics\\pairwise.py:1765: DataConversionWarning: Data was converted to boolean for metric jaccard\n",
      "  warnings.warn(msg, DataConversionWarning)\n"
     ]
    }
   ],
   "source": [
    "dis_matrix = pairwise_distances(foods_binary, metric = 'jaccard')\n",
    "print(dis_matrix.shape)"
   ]
  },
  {
   "cell_type": "code",
   "execution_count": 13,
   "metadata": {},
   "outputs": [
    {
     "data": {
      "text/plain": [
       "array([[0.        , 0.66666667, 0.4       , ..., 0.71428571, 1.        ,\n",
       "        0.66666667],\n",
       "       [0.66666667, 0.        , 0.57142857, ..., 0.16666667, 0.71428571,\n",
       "        0.33333333],\n",
       "       [0.4       , 0.57142857, 0.        , ..., 0.625     , 0.71428571,\n",
       "        0.33333333],\n",
       "       ...,\n",
       "       [0.71428571, 0.16666667, 0.625     , ..., 0.        , 0.75      ,\n",
       "        0.42857143],\n",
       "       [1.        , 0.71428571, 0.71428571, ..., 0.75      , 0.        ,\n",
       "        0.71428571],\n",
       "       [0.66666667, 0.33333333, 0.33333333, ..., 0.42857143, 0.71428571,\n",
       "        0.        ]])"
      ]
     },
     "execution_count": 13,
     "metadata": {},
     "output_type": "execute_result"
    }
   ],
   "source": [
    "dis_matrix"
   ]
  },
  {
   "cell_type": "code",
   "execution_count": 14,
   "metadata": {},
   "outputs": [
    {
     "data": {
      "image/png": "[encoded data removed]",
      "text/plain": [
       "<Figure size 432x288 with 1 Axes>"
      ]
     },
     "metadata": {
      "needs_background": "light"
     },
     "output_type": "display_data"
    }
   ],
   "source": [
    "mds_model = manifold.MDS(n_components = 2, random_state = 123,\n",
    "    dissimilarity = 'precomputed')\n",
    "mds_fit = mds_model.fit(M)  \n",
    "mds_coords = mds_model.fit_transform(M) \n",
    "                                                                                                                                  \n",
    "food_names = discipline_codes\n",
    "plt.figure()\n",
    "plt.scatter(mds_coords[:,0],mds_coords[:,1],\n",
    "    facecolors = 'none', edgecolors = 'none')  # points in white (invisible)\n",
    "labels = food_names\n",
    "for label, x, y in zip(labels, mds_coords[:,0], mds_coords[:,1]):\n",
    "    plt.annotate(label, (x,y), xycoords = 'data')\n",
    "plt.xlabel('First Dimension')\n",
    "plt.ylabel('Second Dimension')\n",
    "plt.title('Dissimilarity among food items')    \n",
    "plt.show()"
   ]
  }
 ],
 "metadata": {
  "kernelspec": {
   "display_name": "Python 3",
   "language": "python",
   "name": "python3"
  },
  "language_info": {
   "codemirror_mode": {
    "name": "ipython",
    "version": 3
   },
   "file_extension": ".py",
   "mimetype": "text/x-python",
   "name": "python",
   "nbconvert_exporter": "python",
   "pygments_lexer": "ipython3",
   "version": "3.8.5"
  }
 },
 "nbformat": 4,
 "nbformat_minor": 4
}
