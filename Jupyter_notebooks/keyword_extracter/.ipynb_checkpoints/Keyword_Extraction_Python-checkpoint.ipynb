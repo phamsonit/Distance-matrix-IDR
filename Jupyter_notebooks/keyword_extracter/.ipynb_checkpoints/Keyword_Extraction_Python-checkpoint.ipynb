{
 "cells": [
  {
   "cell_type": "code",
   "execution_count": 1,
   "metadata": {},
   "outputs": [],
   "source": [
    "# Importing Libraries\n",
    "from nltk import tokenize\n",
    "from operator import itemgetter\n",
    "import math"
   ]
  },
  {
   "cell_type": "code",
   "execution_count": 2,
   "metadata": {},
   "outputs": [],
   "source": [
    "# TF (Term Frequency) = Number of times a term t appears in the text / Total number of words in the document\n",
    "# IDF (Inverse Document Frequency) = log(total number of sentences / Number of sentences with term t)\n",
    "# TF-IDF = TF * IDF = More TF-IDF value, more important is the variable"
   ]
  },
  {
   "cell_type": "code",
   "execution_count": 3,
   "metadata": {},
   "outputs": [],
   "source": [
    "# Document -> Vectorize -> Find TF -> Find IDF -> Find TF*IDF -> Keywords"
   ]
  },
  {
   "cell_type": "code",
   "execution_count": 42,
   "metadata": {},
   "outputs": [],
   "source": [
    "# Document text\n",
    "doc = 'Endothelin-1 wordt steeds meer erkend als een belangrijke molecule in de ontwikkeling en progressie van kanker, maar ook in het tot stand kome van kanker pijn. Voorlopig werd alleen een acute toediening van ET-1 onderzocht. Dit is een opstelling die weinig gelijkenis vertoont met de klinische context. Wij stellen voor om de effecten te onderzoeken van chronische blootstelling aan ET-1 voor wat betreft spontane en uitgelokte pijn.'\n",
    "doc1 = 'In een competitieve omgeving vormt het een uitdaging om getalenteerde en hoogopgeleide werknemers aan te trekken. Daarom kijken bedrijven vaak naar het buitenland om talent aan te trekken. Dit geldt ook voor de belangrijkste werknemers van het bedrijf: de leidinggevenden in het Top Management Team (TMT). In dit project onderzoeken wij of en wanneer internationalisering van het TMT bedrijfsresultaten beïnvloedt. Wij richten ons op de mogelijkheden van TMTs om de aanwervingen en nationale diversiteit in lagere organisatieniveaus te beïnvloeden: managementteams en de werknemersbasis op het niveau van bedrijfseenheden. Dit aanwervingsbeleid kan cruciaal zijn voor de bedrijfsprestaties: Hoewel het topmanagement van een bedrijf het mandaat heeft om strategieën te formuleren en middelen toe te wijzen, hangt veel af van de afstemming op de lagere organisatieniveaus of dit een substantiële impact heeft op de bedrijfsdoelstellingen. De analyse focust op twee samenhangende maatstaven van succes: export en productiviteit. Wij ontwikkelen een unieke en zeer rijke dataset op bedrijfs- en bedrijfseenheid niveau die de volledige populatie van ondernemingen in Nederland omvat, in samenwerking met het Centraal Bureau voor de Statistiek in Nederland. We gebruiken dynamische paneldatatechnieken voor multi-level en mediatie analyses, en complementeren de empirische aanpak met interviews met mensen uit de praktijk. Onze bevindingen hebben managementimplicaties met betrekking tot het vermogen van bedrijven om hoogopgeleide migranten aan te trekken voor betere bedrijfsprestaties, en beleidsimplicaties betreffende de rol van migratiemaatregelen en lokaal beleid om migranten aan te trekken.'\n",
    "doc2 = 'Verhoogde (a)biotische stress bij gewassen, wetgeving en een negatieve perceptie op agrochemicals zijn drijfveren voor het ontwikkelen van bio-gebaseerde strategieën met als doel de veerkracht van gewassen te verhogen. De integratie van circulaire economie bij productieprocessen heeft bovendien geleid tot valorisatie van reststromen via ontwikkeling van biostimulanten. De lokale verankering van productieketens leidt tot opwaardering van gewassen zoals hennep voor kwaliteitsvolle textielvezels. Om te anticiperen op deze marktverschuivingen zal multispectrale beeldvorming worden ontwikkeld met als doel: (i) presymptomatische stress visualiseren, (ii) plantengezondheid monitoren (iii) de impact van biopesticiden/biostimulanten nagaan. Daarnaast zullen (iv) beeldverwerkingstools ontwikkeld worden om het rotingsproces in hennep te monitoren voor textieltoepassingen. Deze O&O pijlers leiden tot noodzakelijke instrumenten voor onze industriële partners en voor toegepast academisch onderzoek.'\n",
    "doc3 = 'Carbon fibre-reinforced polymer composites (CFRPs) constitute a highly profitable market in EU’s economy. Their high stiffness and strength and low density allow engineers to design lightweight structures with a lower carbon footprint than conventional metallic ones. Nonetheless, CFRPs hold two main drawbacks which hinder their exploitation in industry: 1) poor damage and impact tolerance; and 2) limited design space due to the lack of robust design tools and the limited capability of past manufacturing technologies. This 2-year fellowship tackles these drawbacks by developing novel bio-inspired, tailorable and healable multi-impact resistant CFRTP (BIOTHECT) structures. BIOTHECT uses helicoidal layups to minimise fibre breakage during impact and a thermoplastic matrix to enable healing. BIOTHECT structures address current industrial needs for lower maintenance costs, sustainability and weight savings. A novel numerical tool will be developed to understand and design BIOTHECT structures with unique performances. Optimal BIOTHECT structures will be manufactured, tested and analysed through detailed damage analyses to develop the design tool to unprecedented accuracy. The fine-tuned design tool will be translated to industry-friendly packages for direct exploitation. Finally, in the context of the digital industry, the project explores the use of automated manufacturing technologies, 3D printing, to tailor BIOTHECT designs locally in larger conventional structures. This novel design aims at creating macro-components with locally improved damage tolerance without a weight increase, hence leading to lower manufacturing waste and lighter structures. The fellowship will take place at KU Leuven with a 4-month secondment at the Thermoplastic Composites Research Center (NL). Training plan, technical work packages, exploitation, dissemination and communication activities will work together to lead the ER to cover a leading role in his own research group in or out of academia.'"
   ]
  },
  {
   "cell_type": "code",
   "execution_count": 50,
   "metadata": {
    "scrolled": true
   },
   "outputs": [
    {
     "data": {
      "text/plain": [
       "'carbon fibre-reinforced polymer composites (cfrps) constitute highly profitable market eu’s economy high stiffness strength low density allow engineers design lightweight structures lower carbon footprint conventional metallic ones nonetheless cfrps hold two madrawbacks hinder exploitation industry 1) podamage impact tolerance 2) limited design space due lack robust design tools limited capability past manufacturing technologies 2-year fellowship tackles drawbacks developing novel bio-inspired tailorable healable multi-impact resistant cfrtp (biothect) structures biothect uses helicoidal layups minimise fibre breakage impact thermoplastic matrix enable healing biothect structures address current industrial needs lower maintenance costs sustainability weight savings novel numerical tool developed understdesign biothect structures unique performances optimal biothect structures manufactured tested analysed detailed damage analyses develop design tool unprecedented accuracy fine-tuned design tool translated industry-friendly packages direct exploitation finally context digital industry project explores use automated manufacturing technologies 3d printing tailbiothect designs locally larger conventional structures novel design aims creating macro-components locally improved damage tolerance withweight increase hence leading lower manufacturing waste lighter structures fellowship take place ku leuven 4-month secondment thermoplastic composites research center (nl) training plan technical work packages exploitation dissemination communication activities work together lead er cover leading role research group academia'"
      ]
     },
     "execution_count": 50,
     "metadata": {},
     "output_type": "execute_result"
    }
   ],
   "source": [
    "def clean_text(document):\n",
    "    return remove_stop_words(remove_punctuation(document).lower())\n",
    "\n",
    "def remove_punctuation(document):\n",
    "    # initializing punctuations string\n",
    "    punc = '''![]{};:'\"\\,<>./?@#$%^&*_~'''\n",
    "\n",
    "    # Removing punctuations in string\n",
    "    # Using loop + punctuation string\n",
    "    for ele in document:\n",
    "        if ele in punc:\n",
    "            document = document.replace(ele, \"\")\n",
    "    return document\n",
    "\n",
    "# Remove stopwords\n",
    "import nltk\n",
    "from nltk.corpus import stopwords\n",
    "from nltk.tokenize import word_tokenize\n",
    "def remove_stop_words(document):\n",
    "    stop_words=stopwords.words('english')\n",
    "    all_words = document.split()\n",
    "    for each_word in all_words:\n",
    "        if each_word  in stop_words:\n",
    "            document = document.replace(each_word + ' ', '')\n",
    "    return document\n",
    "\n",
    "clean_text(doc3)\n"
   ]
  },
  {
   "cell_type": "code",
   "execution_count": 12,
   "metadata": {},
   "outputs": [
    {
     "name": "stderr",
     "output_type": "stream",
     "text": [
      "[nltk_data] Downloading package stopwords to\n",
      "[nltk_data]     C:\\Users\\lucp11051\\AppData\\Roaming\\nltk_data...\n",
      "[nltk_data]   Package stopwords is already up-to-date!\n",
      "[nltk_data] Downloading package punkt to\n",
      "[nltk_data]     C:\\Users\\lucp11051\\AppData\\Roaming\\nltk_data...\n",
      "[nltk_data]   Unzipping tokenizers\\punkt.zip.\n"
     ]
    },
    {
     "data": {
      "text/plain": [
       "True"
      ]
     },
     "execution_count": 12,
     "metadata": {},
     "output_type": "execute_result"
    }
   ],
   "source": [
    "import nltk\n",
    "nltk.download('stopwords')\n",
    "nltk.download('punkt')"
   ]
  },
  {
   "cell_type": "code",
   "execution_count": 47,
   "metadata": {},
   "outputs": [
    {
     "data": {
      "text/plain": [
       "['i',\n",
       " 'me',\n",
       " 'my',\n",
       " 'myself',\n",
       " 'we',\n",
       " 'our',\n",
       " 'ours',\n",
       " 'ourselves',\n",
       " 'you',\n",
       " \"you're\",\n",
       " \"you've\",\n",
       " \"you'll\",\n",
       " \"you'd\",\n",
       " 'your',\n",
       " 'yours',\n",
       " 'yourself',\n",
       " 'yourselves',\n",
       " 'he',\n",
       " 'him',\n",
       " 'his',\n",
       " 'himself',\n",
       " 'she',\n",
       " \"she's\",\n",
       " 'her',\n",
       " 'hers',\n",
       " 'herself',\n",
       " 'it',\n",
       " \"it's\",\n",
       " 'its',\n",
       " 'itself',\n",
       " 'they',\n",
       " 'them',\n",
       " 'their',\n",
       " 'theirs',\n",
       " 'themselves',\n",
       " 'what',\n",
       " 'which',\n",
       " 'who',\n",
       " 'whom',\n",
       " 'this',\n",
       " 'that',\n",
       " \"that'll\",\n",
       " 'these',\n",
       " 'those',\n",
       " 'am',\n",
       " 'is',\n",
       " 'are',\n",
       " 'was',\n",
       " 'were',\n",
       " 'be',\n",
       " 'been',\n",
       " 'being',\n",
       " 'have',\n",
       " 'has',\n",
       " 'had',\n",
       " 'having',\n",
       " 'do',\n",
       " 'does',\n",
       " 'did',\n",
       " 'doing',\n",
       " 'a',\n",
       " 'an',\n",
       " 'the',\n",
       " 'and',\n",
       " 'but',\n",
       " 'if',\n",
       " 'or',\n",
       " 'because',\n",
       " 'as',\n",
       " 'until',\n",
       " 'while',\n",
       " 'of',\n",
       " 'at',\n",
       " 'by',\n",
       " 'for',\n",
       " 'with',\n",
       " 'about',\n",
       " 'against',\n",
       " 'between',\n",
       " 'into',\n",
       " 'through',\n",
       " 'during',\n",
       " 'before',\n",
       " 'after',\n",
       " 'above',\n",
       " 'below',\n",
       " 'to',\n",
       " 'from',\n",
       " 'up',\n",
       " 'down',\n",
       " 'in',\n",
       " 'out',\n",
       " 'on',\n",
       " 'off',\n",
       " 'over',\n",
       " 'under',\n",
       " 'again',\n",
       " 'further',\n",
       " 'then',\n",
       " 'once',\n",
       " 'here',\n",
       " 'there',\n",
       " 'when',\n",
       " 'where',\n",
       " 'why',\n",
       " 'how',\n",
       " 'all',\n",
       " 'any',\n",
       " 'both',\n",
       " 'each',\n",
       " 'few',\n",
       " 'more',\n",
       " 'most',\n",
       " 'other',\n",
       " 'some',\n",
       " 'such',\n",
       " 'no',\n",
       " 'nor',\n",
       " 'not',\n",
       " 'only',\n",
       " 'own',\n",
       " 'same',\n",
       " 'so',\n",
       " 'than',\n",
       " 'too',\n",
       " 'very',\n",
       " 's',\n",
       " 't',\n",
       " 'can',\n",
       " 'will',\n",
       " 'just',\n",
       " 'don',\n",
       " \"don't\",\n",
       " 'should',\n",
       " \"should've\",\n",
       " 'now',\n",
       " 'd',\n",
       " 'll',\n",
       " 'm',\n",
       " 'o',\n",
       " 're',\n",
       " 've',\n",
       " 'y',\n",
       " 'ain',\n",
       " 'aren',\n",
       " \"aren't\",\n",
       " 'couldn',\n",
       " \"couldn't\",\n",
       " 'didn',\n",
       " \"didn't\",\n",
       " 'doesn',\n",
       " \"doesn't\",\n",
       " 'hadn',\n",
       " \"hadn't\",\n",
       " 'hasn',\n",
       " \"hasn't\",\n",
       " 'haven',\n",
       " \"haven't\",\n",
       " 'isn',\n",
       " \"isn't\",\n",
       " 'ma',\n",
       " 'mightn',\n",
       " \"mightn't\",\n",
       " 'mustn',\n",
       " \"mustn't\",\n",
       " 'needn',\n",
       " \"needn't\",\n",
       " 'shan',\n",
       " \"shan't\",\n",
       " 'shouldn',\n",
       " \"shouldn't\",\n",
       " 'wasn',\n",
       " \"wasn't\",\n",
       " 'weren',\n",
       " \"weren't\",\n",
       " 'won',\n",
       " \"won't\",\n",
       " 'wouldn',\n",
       " \"wouldn't\"]"
      ]
     },
     "execution_count": 47,
     "metadata": {},
     "output_type": "execute_result"
    }
   ],
   "source": [
    "stopwords.words('english')\n"
   ]
  },
  {
   "cell_type": "code",
   "execution_count": 49,
   "metadata": {
    "scrolled": false
   },
   "outputs": [
    {
     "data": {
      "text/plain": [
       "'Carbon fibre-reinforced polymer composites (CFRPs) constitute highly profitable market EU’s economy. Their high stiffness strength low density allow engineers design lightweight structures lower carbon footprint conventional metallic ones. Nonetheless, CFRPs hold two madrawbacks hinder exploitation industry: 1) podamage impact tolerance; 2) limited design space due lack robust design tools limited capability past manufacturing technologies. T2-year fellowship tackles drawbacks developing novel bio-inspired, tailorable healable multi-impact resistant CFRTP (BIOTHECT) structures. BIOTHECT uses helicoidal layups minimise fibre breakage impact thermoplastic matrix enable healing. BIOTHECT structures address current industrial needs lower maintenance costs, sustainability weight savings. A novel numerical tool developed understdesign BIOTHECT structures unique performances. Optimal BIOTHECT structures manufactured, tested analysed detailed damage analyses develop design tool unprecedented accuracy. The fine-tuned design tool translated industry-friendly packages direct exploitation. Finally, context digital industry, project explores use automated manufacturing technologies, 3D printing, tailBIOTHECT designs locally larger conventional structures. Tnovel design aims creating macro-components locally improved damage tolerance withweight increase, hence leading lower manufacturing waste lighter structures. The fellowship take place KU Leuven 4-month secondment Thermoplastic Composites Research Center (NL). Training plan, technical work packages, exploitation, dissemination communication activities work together lead ER cover leading role research group academia.'"
      ]
     },
     "execution_count": 49,
     "metadata": {},
     "output_type": "execute_result"
    }
   ],
   "source": [
    "\n"
   ]
  },
  {
   "cell_type": "code",
   "execution_count": 51,
   "metadata": {},
   "outputs": [
    {
     "name": "stdout",
     "output_type": "stream",
     "text": [
      "189\n",
      "{'carbon': 2, 'fibre-reinforced': 1, 'polymer': 1, 'composites': 2, '(cfrps)': 1, 'constitute': 1, 'highly': 1, 'profitable': 1, 'market': 1, 'eu’s': 1, 'economy': 1, 'high': 1, 'stiffness': 1, 'strength': 1, 'low': 1, 'density': 1, 'allow': 1, 'engineers': 1, 'design': 6, 'lightweight': 1, 'structures': 7, 'lower': 3, 'footprint': 1, 'conventional': 2, 'metallic': 1, 'ones': 1, 'nonetheless': 1, 'cfrps': 1, 'hold': 1, 'two': 1, 'madrawbacks': 1, 'hinder': 1, 'exploitation': 3, 'industry': 2, '1)': 1, 'podamage': 1, 'impact': 2, 'tolerance': 2, '2)': 1, 'limited': 2, 'space': 1, 'due': 1, 'lack': 1, 'robust': 1, 'tools': 1, 'capability': 1, 'past': 1, 'manufacturing': 3, 'technologies': 2, '2-year': 1, 'fellowship': 2, 'tackles': 1, 'drawbacks': 1, 'developing': 1, 'novel': 3, 'bio-inspired': 1, 'tailorable': 1, 'healable': 1, 'multi-impact': 1, 'resistant': 1, 'cfrtp': 1, '(biothect)': 1, 'biothect': 4, 'uses': 1, 'helicoidal': 1, 'layups': 1, 'minimise': 1, 'fibre': 1, 'breakage': 1, 'thermoplastic': 2, 'matrix': 1, 'enable': 1, 'healing': 1, 'address': 1, 'current': 1, 'industrial': 1, 'needs': 1, 'maintenance': 1, 'costs': 1, 'sustainability': 1, 'weight': 1, 'savings': 1, 'numerical': 1, 'tool': 3, 'developed': 1, 'understdesign': 1, 'unique': 1, 'performances': 1, 'optimal': 1, 'manufactured': 1, 'tested': 1, 'analysed': 1, 'detailed': 1, 'damage': 2, 'analyses': 1, 'develop': 1, 'unprecedented': 1, 'accuracy': 1, 'fine-tuned': 1, 'translated': 1, 'industry-friendly': 1, 'packages': 2, 'direct': 1, 'finally': 1, 'context': 1, 'digital': 1, 'project': 1, 'explores': 1, 'use': 1, 'automated': 1, '3d': 1, 'printing': 1, 'tailbiothect': 1, 'designs': 1, 'locally': 2, 'larger': 1, 'aims': 1, 'creating': 1, 'macro-components': 1, 'improved': 1, 'withweight': 1, 'increase': 1, 'hence': 1, 'leading': 2, 'waste': 1, 'lighter': 1, 'take': 1, 'place': 1, 'ku': 1, 'leuven': 1, '4-month': 1, 'secondment': 1, 'research': 2, 'center': 1, '(nl)': 1, 'training': 1, 'plan': 1, 'technical': 1, 'work': 2, 'dissemination': 1, 'communication': 1, 'activities': 1, 'together': 1, 'lead': 1, 'er': 1, 'cover': 1, 'role': 1, 'group': 1, 'academia': 1}\n",
      "{'carbon': 0.010582010582010581, 'fibre-reinforced': 0.005291005291005291, 'polymer': 0.005291005291005291, 'composites': 0.010582010582010581, '(cfrps)': 0.005291005291005291, 'constitute': 0.005291005291005291, 'highly': 0.005291005291005291, 'profitable': 0.005291005291005291, 'market': 0.005291005291005291, 'eu’s': 0.005291005291005291, 'economy': 0.005291005291005291, 'high': 0.005291005291005291, 'stiffness': 0.005291005291005291, 'strength': 0.005291005291005291, 'low': 0.005291005291005291, 'density': 0.005291005291005291, 'allow': 0.005291005291005291, 'engineers': 0.005291005291005291, 'design': 0.031746031746031744, 'lightweight': 0.005291005291005291, 'structures': 0.037037037037037035, 'lower': 0.015873015873015872, 'footprint': 0.005291005291005291, 'conventional': 0.010582010582010581, 'metallic': 0.005291005291005291, 'ones': 0.005291005291005291, 'nonetheless': 0.005291005291005291, 'cfrps': 0.005291005291005291, 'hold': 0.005291005291005291, 'two': 0.005291005291005291, 'madrawbacks': 0.005291005291005291, 'hinder': 0.005291005291005291, 'exploitation': 0.015873015873015872, 'industry': 0.010582010582010581, '1)': 0.005291005291005291, 'podamage': 0.005291005291005291, 'impact': 0.010582010582010581, 'tolerance': 0.010582010582010581, '2)': 0.005291005291005291, 'limited': 0.010582010582010581, 'space': 0.005291005291005291, 'due': 0.005291005291005291, 'lack': 0.005291005291005291, 'robust': 0.005291005291005291, 'tools': 0.005291005291005291, 'capability': 0.005291005291005291, 'past': 0.005291005291005291, 'manufacturing': 0.015873015873015872, 'technologies': 0.010582010582010581, '2-year': 0.005291005291005291, 'fellowship': 0.010582010582010581, 'tackles': 0.005291005291005291, 'drawbacks': 0.005291005291005291, 'developing': 0.005291005291005291, 'novel': 0.015873015873015872, 'bio-inspired': 0.005291005291005291, 'tailorable': 0.005291005291005291, 'healable': 0.005291005291005291, 'multi-impact': 0.005291005291005291, 'resistant': 0.005291005291005291, 'cfrtp': 0.005291005291005291, '(biothect)': 0.005291005291005291, 'biothect': 0.021164021164021163, 'uses': 0.005291005291005291, 'helicoidal': 0.005291005291005291, 'layups': 0.005291005291005291, 'minimise': 0.005291005291005291, 'fibre': 0.005291005291005291, 'breakage': 0.005291005291005291, 'thermoplastic': 0.010582010582010581, 'matrix': 0.005291005291005291, 'enable': 0.005291005291005291, 'healing': 0.005291005291005291, 'address': 0.005291005291005291, 'current': 0.005291005291005291, 'industrial': 0.005291005291005291, 'needs': 0.005291005291005291, 'maintenance': 0.005291005291005291, 'costs': 0.005291005291005291, 'sustainability': 0.005291005291005291, 'weight': 0.005291005291005291, 'savings': 0.005291005291005291, 'numerical': 0.005291005291005291, 'tool': 0.015873015873015872, 'developed': 0.005291005291005291, 'understdesign': 0.005291005291005291, 'unique': 0.005291005291005291, 'performances': 0.005291005291005291, 'optimal': 0.005291005291005291, 'manufactured': 0.005291005291005291, 'tested': 0.005291005291005291, 'analysed': 0.005291005291005291, 'detailed': 0.005291005291005291, 'damage': 0.010582010582010581, 'analyses': 0.005291005291005291, 'develop': 0.005291005291005291, 'unprecedented': 0.005291005291005291, 'accuracy': 0.005291005291005291, 'fine-tuned': 0.005291005291005291, 'translated': 0.005291005291005291, 'industry-friendly': 0.005291005291005291, 'packages': 0.010582010582010581, 'direct': 0.005291005291005291, 'finally': 0.005291005291005291, 'context': 0.005291005291005291, 'digital': 0.005291005291005291, 'project': 0.005291005291005291, 'explores': 0.005291005291005291, 'use': 0.005291005291005291, 'automated': 0.005291005291005291, '3d': 0.005291005291005291, 'printing': 0.005291005291005291, 'tailbiothect': 0.005291005291005291, 'designs': 0.005291005291005291, 'locally': 0.010582010582010581, 'larger': 0.005291005291005291, 'aims': 0.005291005291005291, 'creating': 0.005291005291005291, 'macro-components': 0.005291005291005291, 'improved': 0.005291005291005291, 'withweight': 0.005291005291005291, 'increase': 0.005291005291005291, 'hence': 0.005291005291005291, 'leading': 0.010582010582010581, 'waste': 0.005291005291005291, 'lighter': 0.005291005291005291, 'take': 0.005291005291005291, 'place': 0.005291005291005291, 'ku': 0.005291005291005291, 'leuven': 0.005291005291005291, '4-month': 0.005291005291005291, 'secondment': 0.005291005291005291, 'research': 0.010582010582010581, 'center': 0.005291005291005291, '(nl)': 0.005291005291005291, 'training': 0.005291005291005291, 'plan': 0.005291005291005291, 'technical': 0.005291005291005291, 'work': 0.010582010582010581, 'dissemination': 0.005291005291005291, 'communication': 0.005291005291005291, 'activities': 0.005291005291005291, 'together': 0.005291005291005291, 'lead': 0.005291005291005291, 'er': 0.005291005291005291, 'cover': 0.005291005291005291, 'role': 0.005291005291005291, 'group': 0.005291005291005291, 'academia': 0.005291005291005291}\n"
     ]
    }
   ],
   "source": [
    "# Step 3: Calculate TF for each word\n",
    "doc=clean_text(doc3)\n",
    "tf_score = {}\n",
    "\n",
    "total_words = doc.split()\n",
    "total_word_length = len(total_words)\n",
    "print(total_word_length)\n",
    "\n",
    "for each_word in total_words:\n",
    "    if each_word in tf_score:\n",
    "        tf_score[each_word] += 1\n",
    "    else:\n",
    "        tf_score[each_word] = 1\n",
    "print(tf_score)\n",
    "\n",
    "# Dividing by total_word_length for each dictionary element\n",
    "tf_score.update((x, y/int(total_word_length)) for x, y in tf_score.items())\n",
    "\n",
    "print(tf_score)"
   ]
  },
  {
   "cell_type": "code",
   "execution_count": 36,
   "metadata": {},
   "outputs": [
    {
     "name": "stdout",
     "output_type": "stream",
     "text": [
      "{'Python': 0.5596157879354227, 'increases': 1.9459101490553132, 'interesting': 1.9459101490553132, 'time': 1.9459101490553132, 'graduate': 1.9459101490553132, 'thinking': 1.9459101490553132, 'want': 1.9459101490553132, 'learning': 1.252762968495368, 'Learning': 1.9459101490553132, 'Everyone': 1.9459101490553132, 'invest': 1.9459101490553132, 'I': 0.8472978603872037, 'learn': 1.9459101490553132, 'like': 1.9459101490553132, 'easy': 1.9459101490553132}\n"
     ]
    }
   ],
   "source": [
    "# Check if a word is in a document\n",
    "def word_in_doc(word, document):\n",
    "    doc_words = doc.split()\n",
    "    if word in doc_words:\n",
    "        return True\n",
    "    else:\n",
    "        return False\n",
    "\n",
    "\n",
    "# Step 4: Calculate IDF for each word\n",
    "idf_score = {}\n",
    "for each_word in total_words:\n",
    "    if each_word not in stop_words:\n",
    "        if each_word in idf_score:\n",
    "            idf_score[each_word] = check_sent(each_word, total_sentences)\n",
    "        else:\n",
    "            idf_score[each_word] = 1\n",
    "\n",
    "# Performing a log and divide\n",
    "idf_score.update((x, math.log(int(total_sent_len)/y)) for x, y in idf_score.items())\n",
    "\n",
    "print(idf_score)"
   ]
  },
  {
   "cell_type": "code",
   "execution_count": 37,
   "metadata": {},
   "outputs": [
    {
     "name": "stdout",
     "output_type": "stream",
     "text": [
      "{'Python': 0.07994511256220323, 'increases': 0.06949679103768976, 'interesting': 0.06949679103768976, 'graduate': 0.06949679103768976, 'time': 0.06949679103768976, 'want': 0.06949679103768976, 'learning': 0.08948306917824057, 'like': 0.06949679103768976, 'Everyone': 0.06949679103768976, 'invest': 0.06949679103768976, 'I': 0.09078191361291467, 'thinking': 0.06949679103768976, 'learn': 0.06949679103768976, 'Learning': 0.06949679103768976, 'easy': 0.06949679103768976}\n"
     ]
    }
   ],
   "source": [
    "# Step 5: Calculating TF*IDF\n",
    "tf_idf_score = {key: tf_score[key] * idf_score.get(key, 0) for key in tf_score.keys()} \n",
    "print(tf_idf_score)"
   ]
  },
  {
   "cell_type": "code",
   "execution_count": 38,
   "metadata": {},
   "outputs": [],
   "source": [
    "# Get top N important words in the document\n",
    "def get_top_n(dict_elem, n):\n",
    "    result = dict(sorted(dict_elem.items(), key = itemgetter(1), reverse = True)[:n]) \n",
    "    return result"
   ]
  },
  {
   "cell_type": "code",
   "execution_count": 39,
   "metadata": {},
   "outputs": [
    {
     "name": "stdout",
     "output_type": "stream",
     "text": [
      "{'Python': 0.07994511256220323, 'learning': 0.08948306917824057, 'I': 0.09078191361291467, 'interesting': 0.06949679103768976, 'increases': 0.06949679103768976}\n"
     ]
    }
   ],
   "source": [
    "print(get_top_n(tf_idf_score, 5))"
   ]
  },
  {
   "cell_type": "code",
   "execution_count": null,
   "metadata": {
    "collapsed": true
   },
   "outputs": [],
   "source": []
  }
 ],
 "metadata": {
  "anaconda-cloud": {},
  "kernelspec": {
   "display_name": "Python 3",
   "language": "python",
   "name": "python3"
  },
  "language_info": {
   "codemirror_mode": {
    "name": "ipython",
    "version": 3
   },
   "file_extension": ".py",
   "mimetype": "text/x-python",
   "name": "python",
   "nbconvert_exporter": "python",
   "pygments_lexer": "ipython3",
   "version": "3.8.5"
  }
 },
 "nbformat": 4,
 "nbformat_minor": 1
}
