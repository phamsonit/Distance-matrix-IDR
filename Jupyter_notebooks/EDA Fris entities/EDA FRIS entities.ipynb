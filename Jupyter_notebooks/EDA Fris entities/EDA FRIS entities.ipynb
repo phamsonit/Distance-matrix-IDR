{
 "cells": [
  {
   "cell_type": "markdown",
   "metadata": {},
   "source": [
    "# EDA FRIS"
   ]
  },
  {
   "cell_type": "markdown",
   "metadata": {},
   "source": [
    "## Importing packages, data and functions"
   ]
  },
  {
   "cell_type": "code",
   "execution_count": 81,
   "metadata": {},
   "outputs": [],
   "source": [
    "import pandas as pd\n",
    "from ast import literal_eval\n",
    "import seaborn as sns\n",
    "import matplotlib.pyplot as plt"
   ]
  },
  {
   "cell_type": "code",
   "execution_count": 32,
   "metadata": {},
   "outputs": [],
   "source": [
    "publications=pd.read_csv('100publications.csv')  \n",
    "projects=pd.read_csv('100projects.csv')  \n",
    "persons=pd.read_csv('100persons.csv')  \n",
    "organisations=pd.read_csv('100organisations.csv')  "
   ]
  },
  {
   "cell_type": "code",
   "execution_count": 33,
   "metadata": {},
   "outputs": [],
   "source": [
    "# function to bring a list of (level 4) disciplines to a list of level 2\n",
    "def bring_to_level_2(list_of_disc):\n",
    "    level_2_list=[]\n",
    "    for disc in list_of_disc:\n",
    "        level_2_list= level_2_list + [disc[:4]]\n",
    "    return level_2_list\n",
    "        "
   ]
  },
  {
   "cell_type": "code",
   "execution_count": 34,
   "metadata": {},
   "outputs": [],
   "source": [
    "# function to get unique values \n",
    "def unique(list1): \n",
    "  \n",
    "    # intilize a null list \n",
    "    unique_list = [] \n",
    "      \n",
    "    # traverse for all elements \n",
    "    for x in list1: \n",
    "        # check if exists in unique_list or not \n",
    "        if x not in unique_list: \n",
    "            unique_list.append(x) \n",
    "    # print list \n",
    "    return unique_list"
   ]
  },
  {
   "cell_type": "markdown",
   "metadata": {},
   "source": [
    "## Projects"
   ]
  },
  {
   "cell_type": "code",
   "execution_count": 35,
   "metadata": {
    "scrolled": true
   },
   "outputs": [],
   "source": [
    "projects['Disciplines'] = projects['Disciplines'].apply(lambda x: literal_eval(x))\n",
    "projects['Persons'] = projects['Persons'].apply(lambda x: unique(literal_eval(x)))\n",
    "projects['Organisations'] = projects['Organisations'].apply(lambda x: unique(literal_eval(x)))\n",
    "projects['Publications'] = projects['Publications'].apply(lambda x: literal_eval(x))\n",
    "projects['Level-2 disciplines']=projects['Disciplines'].apply(lambda x: bring_to_level_2(x))\n",
    "projects['Unique level-2 disciplines']=projects['Disciplines'].apply(lambda x: unique(bring_to_level_2(x)))\n"
   ]
  },
  {
   "cell_type": "code",
   "execution_count": 36,
   "metadata": {},
   "outputs": [],
   "source": [
    "cols= ['ID',\n",
    " 'Name',\n",
    " 'Disciplines',\n",
    " 'Level-2 disciplines',\n",
    "'Unique level-2 disciplines',\n",
    " 'Persons','Organisations','Publications']\n",
    "projects=projects[cols]"
   ]
  },
  {
   "cell_type": "code",
   "execution_count": 37,
   "metadata": {
    "scrolled": true
   },
   "outputs": [
    {
     "data": {
      "text/html": [
       "<div>\n",
       "<style scoped>\n",
       "    .dataframe tbody tr th:only-of-type {\n",
       "        vertical-align: middle;\n",
       "    }\n",
       "\n",
       "    .dataframe tbody tr th {\n",
       "        vertical-align: top;\n",
       "    }\n",
       "\n",
       "    .dataframe thead th {\n",
       "        text-align: right;\n",
       "    }\n",
       "</style>\n",
       "<table border=\"1\" class=\"dataframe\">\n",
       "  <thead>\n",
       "    <tr style=\"text-align: right;\">\n",
       "      <th></th>\n",
       "      <th>ID</th>\n",
       "      <th>Name</th>\n",
       "      <th>Disciplines</th>\n",
       "      <th>Level-2 disciplines</th>\n",
       "      <th>Unique level-2 disciplines</th>\n",
       "      <th>Persons</th>\n",
       "      <th>Organisations</th>\n",
       "      <th>Publications</th>\n",
       "    </tr>\n",
       "  </thead>\n",
       "  <tbody>\n",
       "    <tr>\n",
       "      <th>0</th>\n",
       "      <td>540aa957-baa8-413b-995d-000ebb94d726</td>\n",
       "      <td>Campana points, fibrations and logarithmic geo...</td>\n",
       "      <td>[01010101, 01010111]</td>\n",
       "      <td>[0101, 0101]</td>\n",
       "      <td>[0101]</td>\n",
       "      <td>[76fb3576-2330-42c8-8409-ca3ea425a66a, 4a7deeb...</td>\n",
       "      <td>[baae22ec-a096-40b8-bd32-e57a14d03379]</td>\n",
       "      <td>[]</td>\n",
       "    </tr>\n",
       "    <tr>\n",
       "      <th>1</th>\n",
       "      <td>c25e3c17-9f5b-4d59-9737-761e9a696754</td>\n",
       "      <td>The evolution and inheritance of superorganism...</td>\n",
       "      <td>[01060599, 01060503, 01060402, 01060502]</td>\n",
       "      <td>[0106, 0106, 0106, 0106]</td>\n",
       "      <td>[0106]</td>\n",
       "      <td>[42e995d3-eecb-4589-8ab4-a8f0fbfcfa52, 2a459ba...</td>\n",
       "      <td>[91711c6f-4410-4aa8-acd3-ac3d3a48ed12]</td>\n",
       "      <td>[]</td>\n",
       "    </tr>\n",
       "    <tr>\n",
       "      <th>2</th>\n",
       "      <td>84c545e9-cef6-4c80-ba04-03948ad26d4f</td>\n",
       "      <td>Tackling cancer metastasis as a metabolic dise...</td>\n",
       "      <td>[03010903]</td>\n",
       "      <td>[0301]</td>\n",
       "      <td>[0301]</td>\n",
       "      <td>[7815af3d-3562-48d2-8d8c-ad0e6ade2c7a]</td>\n",
       "      <td>[0d18ded3-64ce-4533-99cb-25cc98a89523]</td>\n",
       "      <td>[]</td>\n",
       "    </tr>\n",
       "    <tr>\n",
       "      <th>3</th>\n",
       "      <td>acb74a20-470b-4016-b546-959137bc7925</td>\n",
       "      <td>”RNA modifications: new mechanisms to regulate...</td>\n",
       "      <td>[01060106, 03010210, 03011401]</td>\n",
       "      <td>[0106, 0301, 0301]</td>\n",
       "      <td>[0106, 0301]</td>\n",
       "      <td>[7a36505e-59fc-4835-bb0f-7e31519a04a5]</td>\n",
       "      <td>[5605d649-ad6d-4fd0-a47c-470298a5d22f]</td>\n",
       "      <td>[]</td>\n",
       "    </tr>\n",
       "    <tr>\n",
       "      <th>4</th>\n",
       "      <td>7c2841c3-d888-447f-82d5-ab99b2610b57</td>\n",
       "      <td>Elaboration of the clinical practice guideline...</td>\n",
       "      <td>[03020902, 03030309]</td>\n",
       "      <td>[0302, 0303]</td>\n",
       "      <td>[0302, 0303]</td>\n",
       "      <td>[d4335711-3393-4214-8e89-caca1427435e]</td>\n",
       "      <td>[606e04ad-bdf3-41a7-bc76-452ba778ff69]</td>\n",
       "      <td>[]</td>\n",
       "    </tr>\n",
       "    <tr>\n",
       "      <th>...</th>\n",
       "      <td>...</td>\n",
       "      <td>...</td>\n",
       "      <td>...</td>\n",
       "      <td>...</td>\n",
       "      <td>...</td>\n",
       "      <td>...</td>\n",
       "      <td>...</td>\n",
       "      <td>...</td>\n",
       "    </tr>\n",
       "    <tr>\n",
       "      <th>95</th>\n",
       "      <td>d4c2085c-f11b-4284-901e-0339f6b1e9b7</td>\n",
       "      <td>Lateralization patterns in (a)typical speech d...</td>\n",
       "      <td>[050108, 050102, 050101]</td>\n",
       "      <td>[0501, 0501, 0501]</td>\n",
       "      <td>[0501]</td>\n",
       "      <td>[88258255-8787-4685-aa1e-491d60423bbe, b96ce0a...</td>\n",
       "      <td>[1419cb37-dcd7-43b5-8ee5-0116f3f746f2]</td>\n",
       "      <td>[]</td>\n",
       "    </tr>\n",
       "    <tr>\n",
       "      <th>96</th>\n",
       "      <td>d5a7deb3-9687-4d6a-8011-396bee2ae565</td>\n",
       "      <td>The PHF6 - TLX1 cooperativity and the IL7R-JAK...</td>\n",
       "      <td>[010611, 030121, 010607, 030621]</td>\n",
       "      <td>[0106, 0301, 0106, 0306]</td>\n",
       "      <td>[0106, 0301, 0306]</td>\n",
       "      <td>[9c1c3365-6ab8-4cd3-9a09-6fe0702eaccb, 6dd3d40...</td>\n",
       "      <td>[5f4ab818-63ad-42cf-98b1-ec9da03776a5]</td>\n",
       "      <td>[]</td>\n",
       "    </tr>\n",
       "    <tr>\n",
       "      <th>97</th>\n",
       "      <td>8678ccc0-99d3-48e7-8d81-39dc4f962fed</td>\n",
       "      <td>Constraint-based intelligent control of a bila...</td>\n",
       "      <td>[020203, 020303, 020308, 020802]</td>\n",
       "      <td>[0202, 0203, 0203, 0208]</td>\n",
       "      <td>[0202, 0203, 0208]</td>\n",
       "      <td>[044dc792-1d1c-422e-9704-a5c975b98433, f286af2...</td>\n",
       "      <td>[22358ad3-f0c0-4e35-88ca-7350f696036a]</td>\n",
       "      <td>[aebed42a-499e-46fb-a6e9-b771709bec39]</td>\n",
       "    </tr>\n",
       "    <tr>\n",
       "      <th>98</th>\n",
       "      <td>b5227dde-403f-42b6-ac5a-f33ab3910226</td>\n",
       "      <td>Addendum PISA - operation year 2012</td>\n",
       "      <td>[050302, 050304, 050399, 050301, 050308]</td>\n",
       "      <td>[0503, 0503, 0503, 0503, 0503]</td>\n",
       "      <td>[0503]</td>\n",
       "      <td>[7d9cab0c-f975-494a-8ec0-82c326aae5b4]</td>\n",
       "      <td>[c8902fc0-ff7b-415d-9167-4cc1ff684055]</td>\n",
       "      <td>[]</td>\n",
       "    </tr>\n",
       "    <tr>\n",
       "      <th>99</th>\n",
       "      <td>e0435a6c-a18e-49c7-80af-418b79533d82</td>\n",
       "      <td>Bifocal Quantum Chemistry.</td>\n",
       "      <td>[010408, 010499, 010602, 010611, 030117, 03061...</td>\n",
       "      <td>[0104, 0104, 0106, 0106, 0301, 0306, 0103, 0104]</td>\n",
       "      <td>[0104, 0106, 0301, 0306, 0103]</td>\n",
       "      <td>[4cec7900-68a2-423c-9e61-2563a8d37dae, 5aa2f8c...</td>\n",
       "      <td>[87caab16-64ed-4aaf-9da7-4259b31520f7]</td>\n",
       "      <td>[]</td>\n",
       "    </tr>\n",
       "  </tbody>\n",
       "</table>\n",
       "<p>100 rows × 8 columns</p>\n",
       "</div>"
      ],
      "text/plain": [
       "                                      ID  \\\n",
       "0   540aa957-baa8-413b-995d-000ebb94d726   \n",
       "1   c25e3c17-9f5b-4d59-9737-761e9a696754   \n",
       "2   84c545e9-cef6-4c80-ba04-03948ad26d4f   \n",
       "3   acb74a20-470b-4016-b546-959137bc7925   \n",
       "4   7c2841c3-d888-447f-82d5-ab99b2610b57   \n",
       "..                                   ...   \n",
       "95  d4c2085c-f11b-4284-901e-0339f6b1e9b7   \n",
       "96  d5a7deb3-9687-4d6a-8011-396bee2ae565   \n",
       "97  8678ccc0-99d3-48e7-8d81-39dc4f962fed   \n",
       "98  b5227dde-403f-42b6-ac5a-f33ab3910226   \n",
       "99  e0435a6c-a18e-49c7-80af-418b79533d82   \n",
       "\n",
       "                                                 Name  \\\n",
       "0   Campana points, fibrations and logarithmic geo...   \n",
       "1   The evolution and inheritance of superorganism...   \n",
       "2   Tackling cancer metastasis as a metabolic dise...   \n",
       "3   ”RNA modifications: new mechanisms to regulate...   \n",
       "4   Elaboration of the clinical practice guideline...   \n",
       "..                                                ...   \n",
       "95  Lateralization patterns in (a)typical speech d...   \n",
       "96  The PHF6 - TLX1 cooperativity and the IL7R-JAK...   \n",
       "97  Constraint-based intelligent control of a bila...   \n",
       "98                Addendum PISA - operation year 2012   \n",
       "99                         Bifocal Quantum Chemistry.   \n",
       "\n",
       "                                          Disciplines  \\\n",
       "0                                [01010101, 01010111]   \n",
       "1            [01060599, 01060503, 01060402, 01060502]   \n",
       "2                                          [03010903]   \n",
       "3                      [01060106, 03010210, 03011401]   \n",
       "4                                [03020902, 03030309]   \n",
       "..                                                ...   \n",
       "95                           [050108, 050102, 050101]   \n",
       "96                   [010611, 030121, 010607, 030621]   \n",
       "97                   [020203, 020303, 020308, 020802]   \n",
       "98           [050302, 050304, 050399, 050301, 050308]   \n",
       "99  [010408, 010499, 010602, 010611, 030117, 03061...   \n",
       "\n",
       "                                 Level-2 disciplines  \\\n",
       "0                                       [0101, 0101]   \n",
       "1                           [0106, 0106, 0106, 0106]   \n",
       "2                                             [0301]   \n",
       "3                                 [0106, 0301, 0301]   \n",
       "4                                       [0302, 0303]   \n",
       "..                                               ...   \n",
       "95                                [0501, 0501, 0501]   \n",
       "96                          [0106, 0301, 0106, 0306]   \n",
       "97                          [0202, 0203, 0203, 0208]   \n",
       "98                    [0503, 0503, 0503, 0503, 0503]   \n",
       "99  [0104, 0104, 0106, 0106, 0301, 0306, 0103, 0104]   \n",
       "\n",
       "        Unique level-2 disciplines  \\\n",
       "0                           [0101]   \n",
       "1                           [0106]   \n",
       "2                           [0301]   \n",
       "3                     [0106, 0301]   \n",
       "4                     [0302, 0303]   \n",
       "..                             ...   \n",
       "95                          [0501]   \n",
       "96              [0106, 0301, 0306]   \n",
       "97              [0202, 0203, 0208]   \n",
       "98                          [0503]   \n",
       "99  [0104, 0106, 0301, 0306, 0103]   \n",
       "\n",
       "                                              Persons  \\\n",
       "0   [76fb3576-2330-42c8-8409-ca3ea425a66a, 4a7deeb...   \n",
       "1   [42e995d3-eecb-4589-8ab4-a8f0fbfcfa52, 2a459ba...   \n",
       "2              [7815af3d-3562-48d2-8d8c-ad0e6ade2c7a]   \n",
       "3              [7a36505e-59fc-4835-bb0f-7e31519a04a5]   \n",
       "4              [d4335711-3393-4214-8e89-caca1427435e]   \n",
       "..                                                ...   \n",
       "95  [88258255-8787-4685-aa1e-491d60423bbe, b96ce0a...   \n",
       "96  [9c1c3365-6ab8-4cd3-9a09-6fe0702eaccb, 6dd3d40...   \n",
       "97  [044dc792-1d1c-422e-9704-a5c975b98433, f286af2...   \n",
       "98             [7d9cab0c-f975-494a-8ec0-82c326aae5b4]   \n",
       "99  [4cec7900-68a2-423c-9e61-2563a8d37dae, 5aa2f8c...   \n",
       "\n",
       "                             Organisations  \\\n",
       "0   [baae22ec-a096-40b8-bd32-e57a14d03379]   \n",
       "1   [91711c6f-4410-4aa8-acd3-ac3d3a48ed12]   \n",
       "2   [0d18ded3-64ce-4533-99cb-25cc98a89523]   \n",
       "3   [5605d649-ad6d-4fd0-a47c-470298a5d22f]   \n",
       "4   [606e04ad-bdf3-41a7-bc76-452ba778ff69]   \n",
       "..                                     ...   \n",
       "95  [1419cb37-dcd7-43b5-8ee5-0116f3f746f2]   \n",
       "96  [5f4ab818-63ad-42cf-98b1-ec9da03776a5]   \n",
       "97  [22358ad3-f0c0-4e35-88ca-7350f696036a]   \n",
       "98  [c8902fc0-ff7b-415d-9167-4cc1ff684055]   \n",
       "99  [87caab16-64ed-4aaf-9da7-4259b31520f7]   \n",
       "\n",
       "                              Publications  \n",
       "0                                       []  \n",
       "1                                       []  \n",
       "2                                       []  \n",
       "3                                       []  \n",
       "4                                       []  \n",
       "..                                     ...  \n",
       "95                                      []  \n",
       "96                                      []  \n",
       "97  [aebed42a-499e-46fb-a6e9-b771709bec39]  \n",
       "98                                      []  \n",
       "99                                      []  \n",
       "\n",
       "[100 rows x 8 columns]"
      ]
     },
     "execution_count": 37,
     "metadata": {},
     "output_type": "execute_result"
    }
   ],
   "source": [
    "projects"
   ]
  },
  {
   "cell_type": "code",
   "execution_count": 9,
   "metadata": {},
   "outputs": [
    {
     "name": "stdout",
     "output_type": "stream",
     "text": [
      "The average number of people working on a project is 1.95 .\n",
      "The median number of people working on a project is 2.0 .\n",
      "The maximum number of people working on a project is 5 .\n",
      "The number of project with 0 people is 0.\n"
     ]
    }
   ],
   "source": [
    "print( 'The average number of people working on a project is {} .'.format(projects['Persons'].apply(lambda x: len(x)).mean()))\n",
    "print( 'The median number of people working on a project is {} .'.format(projects['Persons'].apply(lambda x: len(x)).median()))\n",
    "print( 'The maximum number of people working on a project is {} .'.format(projects['Persons'].apply(lambda x: len(x)).max()))\n",
    "print( 'The number of project with 0 people is {}.'.format(projects['Persons'].apply(lambda x: len(x) == 0).astype(int).sum()))"
   ]
  },
  {
   "cell_type": "code",
   "execution_count": 10,
   "metadata": {},
   "outputs": [
    {
     "name": "stdout",
     "output_type": "stream",
     "text": [
      "The average number of organisations working on a project is 1.32 .\n",
      "The median number of organisations working on a project is 1.0 .\n",
      "The maximum number of organisations working on a project is 4 .\n",
      "The number of project with 0 organisations is 0.\n"
     ]
    }
   ],
   "source": [
    "print( 'The average number of organisations working on a project is {} .'.format(projects['Organisations'].apply(lambda x: len(x)).mean()))\n",
    "print( 'The median number of organisations working on a project is {} .'.format(projects['Organisations'].apply(lambda x: len(x)).median()))\n",
    "print( 'The maximum number of organisations working on a project is {} .'.format(projects['Organisations'].apply(lambda x: len(x)).max()))\n",
    "print( 'The number of project with 0 organisations is {}.'.format(projects['Organisations'].apply(lambda x: len(x) == 0).astype(int).sum()))"
   ]
  },
  {
   "cell_type": "code",
   "execution_count": 11,
   "metadata": {},
   "outputs": [
    {
     "name": "stdout",
     "output_type": "stream",
     "text": [
      "The average number of publications of a project is 0.07 .\n",
      "The median number of publications of a project is 0.0 .\n",
      "The maximum number of publications of a project is 2 .\n",
      "The number of project with 0 publications is 94.\n"
     ]
    }
   ],
   "source": [
    "print( 'The average number of publications of a project is {} .'.format(projects['Publications'].apply(lambda x: len(x)).mean()))\n",
    "print( 'The median number of publications of a project is {} .'.format(projects['Publications'].apply(lambda x: len(x)).median()))\n",
    "print( 'The maximum number of publications of a project is {} .'.format(projects['Publications'].apply(lambda x: len(x)).max()))\n",
    "print( 'The number of project with 0 publications is {}.'.format(projects['Publications'].apply(lambda x: len(x) == 0).astype(int).sum()))"
   ]
  },
  {
   "cell_type": "code",
   "execution_count": 38,
   "metadata": {
    "scrolled": true
   },
   "outputs": [
    {
     "name": "stdout",
     "output_type": "stream",
     "text": [
      "The average number of disciplines of a project is 4.73 .\n",
      "The median number of disciplines of a project is 3.0 .\n",
      "The maximum number of disciplines of a project is 20 .\n",
      "The number of project with 0 disciplines is 3.\n"
     ]
    }
   ],
   "source": [
    "print( 'The average number of disciplines of a project is {} .'.format(projects['Disciplines'].apply(lambda x: len(x)).mean()))\n",
    "print( 'The median number of disciplines of a project is {} .'.format(projects['Disciplines'].apply(lambda x: len(x)).median()))\n",
    "print( 'The maximum number of disciplines of a project is {} .'.format(projects['Disciplines'].apply(lambda x: len(x)).max()))\n",
    "print( 'The number of project with 0 disciplines is {}.'.format(projects['Disciplines'].apply(lambda x: len(x) == 0).astype(int).sum()))"
   ]
  },
  {
   "cell_type": "code",
   "execution_count": 41,
   "metadata": {
    "scrolled": true
   },
   "outputs": [
    {
     "name": "stdout",
     "output_type": "stream",
     "text": [
      "The average number of Unique level-2 disciplines of a project is 2.12 .\n",
      "The median number of Unique level-2 disciplines of a project is 1.5 .\n",
      "The maximum number of Unique level-2 disciplines of a project is 8 .\n",
      "The number of project with 0 Unique level-2 disciplines is 3.\n"
     ]
    }
   ],
   "source": [
    "print( 'The average number of Unique level-2 disciplines of a project is {} .'.format(projects['Unique level-2 disciplines'].apply(lambda x: len(x)).mean()))\n",
    "print( 'The median number of Unique level-2 disciplines of a project is {} .'.format(projects['Unique level-2 disciplines'].apply(lambda x: len(x)).median()))\n",
    "print( 'The maximum number of Unique level-2 disciplines of a project is {} .'.format(projects['Unique level-2 disciplines'].apply(lambda x: len(x)).max()))\n",
    "print( 'The number of project with 0 Unique level-2 disciplines is {}.'.format(projects['Unique level-2 disciplines'].apply(lambda x: len(x) == 0).astype(int).sum()))"
   ]
  },
  {
   "cell_type": "code",
   "execution_count": 126,
   "metadata": {
    "scrolled": true
   },
   "outputs": [],
   "source": [
    "projects_count=projects.copy()\n",
    "projects_count['Unique level-2 disciplines']=projects['Unique level-2 disciplines'].apply(lambda x: len(x))\n",
    "projects_count['Level-2 disciplines']=projects['Level-2 disciplines'].apply(lambda x: len(x))\n",
    "projects_count['Persons']=projects['Persons'].apply(lambda x: len(x))\n",
    "projects_count['Organisations']=projects['Organisations'].apply(lambda x: len(x))\n",
    "projects_count['Publications']=projects['Publications'].apply(lambda x: len(x))\n",
    "\n",
    "cols= [\n",
    " 'Level-2 disciplines',\n",
    "'Unique level-2 disciplines',\n",
    " 'Persons','Organisations','Publications']\n",
    "projects_count=projects_count[cols]\n",
    "\n"
   ]
  },
  {
   "cell_type": "code",
   "execution_count": 129,
   "metadata": {},
   "outputs": [
    {
     "data": {
      "image/png": "[encoded data removed]",
      "text/plain": [
       "<Figure size 864x576 with 4 Axes>"
      ]
     },
     "metadata": {},
     "output_type": "display_data"
    }
   ],
   "source": [
    "sns.set(rc={\"figure.figsize\": (12,8)})\n",
    "\n",
    "fig,axes=plt.subplots(2,2)\n",
    "sns.histplot(projects_count, x='Level-2 disciplines',binwidth=1, discrete=True, ax=axes[0,0])\n",
    "sns.histplot(projects_count, x='Unique level-2 disciplines',binwidth=1,discrete=True,  ax=axes[0,1])\n",
    "sns.histplot(projects_count, x='Organisations',binwidth=1,discrete=True, ax=axes[1,0])\n",
    "sns.histplot(projects_count, x='Persons',binwidth=1,discrete=True, ax=axes[1,1])\n",
    "plt.show()"
   ]
  },
  {
   "cell_type": "code",
   "execution_count": 127,
   "metadata": {
    "scrolled": true
   },
   "outputs": [
    {
     "data": {
      "image/png": "[encoded data removed]",
      "text/plain": [
       "<Figure size 648x432 with 2 Axes>"
      ]
     },
     "metadata": {},
     "output_type": "display_data"
    }
   ],
   "source": [
    "sns.set(rc={\"figure.figsize\": (9,6)})\n",
    "corrMatrix = projects_count.corr()\n",
    "sns.heatmap(corrMatrix, annot=True)\n",
    "plt.show()"
   ]
  },
  {
   "cell_type": "markdown",
   "metadata": {},
   "source": [
    "## Persons"
   ]
  },
  {
   "cell_type": "code",
   "execution_count": 42,
   "metadata": {},
   "outputs": [],
   "source": [
    "persons=persons.drop(persons[persons.Name == 'ERROR'].index)"
   ]
  },
  {
   "cell_type": "code",
   "execution_count": 43,
   "metadata": {
    "scrolled": true
   },
   "outputs": [],
   "source": [
    "persons['Disciplines'] = persons['Disciplines'].apply(lambda x: literal_eval(x))\n",
    "persons['Projects'] = persons['Projects'].apply(lambda x: literal_eval(x))\n",
    "persons['Organisations'] = persons['Organisations'].apply(lambda x: literal_eval(x))\n",
    "persons['Publications'] = persons['Publications'].apply(lambda x: literal_eval(x))\n",
    "persons['Level-2 disciplines']=persons['Disciplines'].apply(lambda x: bring_to_level_2(x))\n",
    "persons['Unique level-2 disciplines']=persons['Disciplines'].apply(lambda x: unique(bring_to_level_2(x)))"
   ]
  },
  {
   "cell_type": "code",
   "execution_count": 44,
   "metadata": {
    "scrolled": true
   },
   "outputs": [
    {
     "data": {
      "text/html": [
       "<div>\n",
       "<style scoped>\n",
       "    .dataframe tbody tr th:only-of-type {\n",
       "        vertical-align: middle;\n",
       "    }\n",
       "\n",
       "    .dataframe tbody tr th {\n",
       "        vertical-align: top;\n",
       "    }\n",
       "\n",
       "    .dataframe thead th {\n",
       "        text-align: right;\n",
       "    }\n",
       "</style>\n",
       "<table border=\"1\" class=\"dataframe\">\n",
       "  <thead>\n",
       "    <tr style=\"text-align: right;\">\n",
       "      <th></th>\n",
       "      <th>ID</th>\n",
       "      <th>Name</th>\n",
       "      <th>Disciplines</th>\n",
       "      <th>Projects</th>\n",
       "      <th>Organisations</th>\n",
       "      <th>Publications</th>\n",
       "      <th>Level-2 disciplines</th>\n",
       "      <th>Unique level-2 disciplines</th>\n",
       "    </tr>\n",
       "  </thead>\n",
       "  <tbody>\n",
       "    <tr>\n",
       "      <th>0</th>\n",
       "      <td>e52e68c1-8016-41de-b2c4-9f5bb0e0e0a8</td>\n",
       "      <td>Louis Daniels</td>\n",
       "      <td>[02080403, 04010202]</td>\n",
       "      <td>[]</td>\n",
       "      <td>[c5a47d38-b0f4-42b2-8005-75e1536b6b7f]</td>\n",
       "      <td>[]</td>\n",
       "      <td>[0208, 0401]</td>\n",
       "      <td>[0208, 0401]</td>\n",
       "    </tr>\n",
       "    <tr>\n",
       "      <th>1</th>\n",
       "      <td>edf5af41-98a3-4ec7-b55a-c4755b5dcf54</td>\n",
       "      <td>Benoit Vandaele</td>\n",
       "      <td>[05020104]</td>\n",
       "      <td>[]</td>\n",
       "      <td>[6986591b-f5db-4c0b-9a2d-ae1fe7684605]</td>\n",
       "      <td>[]</td>\n",
       "      <td>[0502]</td>\n",
       "      <td>[0502]</td>\n",
       "    </tr>\n",
       "    <tr>\n",
       "      <th>2</th>\n",
       "      <td>254755ed-d0a1-4419-b8d9-1551e4c85c88</td>\n",
       "      <td>Simon Remans</td>\n",
       "      <td>[01060102]</td>\n",
       "      <td>[]</td>\n",
       "      <td>[e1ff43de-1101-4978-b9c5-39bbacce0ef4]</td>\n",
       "      <td>[]</td>\n",
       "      <td>[0106]</td>\n",
       "      <td>[0106]</td>\n",
       "    </tr>\n",
       "    <tr>\n",
       "      <th>3</th>\n",
       "      <td>23755a31-f949-4eb8-8a3a-143d3e109edd</td>\n",
       "      <td>Seppe Top</td>\n",
       "      <td>[04010203]</td>\n",
       "      <td>[]</td>\n",
       "      <td>[c5a47d38-b0f4-42b2-8005-75e1536b6b7f]</td>\n",
       "      <td>[]</td>\n",
       "      <td>[0401]</td>\n",
       "      <td>[0401]</td>\n",
       "    </tr>\n",
       "    <tr>\n",
       "      <th>4</th>\n",
       "      <td>11faf5ef-fc0c-49fb-8592-f2a5cffd953b</td>\n",
       "      <td>Santiago Mendoza Paz</td>\n",
       "      <td>[02011299]</td>\n",
       "      <td>[accc90f3-197e-472a-b253-8ec8a2ea6e68]</td>\n",
       "      <td>[6e6a5414-b4a8-4258-99b4-a5aca1124666, b3431ba...</td>\n",
       "      <td>[]</td>\n",
       "      <td>[0201]</td>\n",
       "      <td>[0201]</td>\n",
       "    </tr>\n",
       "    <tr>\n",
       "      <th>...</th>\n",
       "      <td>...</td>\n",
       "      <td>...</td>\n",
       "      <td>...</td>\n",
       "      <td>...</td>\n",
       "      <td>...</td>\n",
       "      <td>...</td>\n",
       "      <td>...</td>\n",
       "      <td>...</td>\n",
       "    </tr>\n",
       "    <tr>\n",
       "      <th>95</th>\n",
       "      <td>12a18f55-5c4c-4a81-a268-047505742c65</td>\n",
       "      <td>Anne-Lise Montreuil</td>\n",
       "      <td>[]</td>\n",
       "      <td>[]</td>\n",
       "      <td>[b2e4f3b8-42d2-46f6-990b-b319460b2155, 637f61d...</td>\n",
       "      <td>[0c362b0a-ee5b-488d-be2f-03f4cae46bcc, book-co...</td>\n",
       "      <td>[]</td>\n",
       "      <td>[]</td>\n",
       "    </tr>\n",
       "    <tr>\n",
       "      <th>96</th>\n",
       "      <td>7ae66f13-b62b-4901-9801-426ebf335a7f</td>\n",
       "      <td>Lin Nan</td>\n",
       "      <td>[]</td>\n",
       "      <td>[]</td>\n",
       "      <td>[0016eb38-4374-4747-a43f-c408af2c2d70]</td>\n",
       "      <td>[]</td>\n",
       "      <td>[]</td>\n",
       "      <td>[]</td>\n",
       "    </tr>\n",
       "    <tr>\n",
       "      <th>97</th>\n",
       "      <td>09397e92-0002-4e06-b738-fb52dcc86aa7</td>\n",
       "      <td>Astrid PUES</td>\n",
       "      <td>[03019999, 03011499, 03050101, 03050102, 03061...</td>\n",
       "      <td>[e260fb11-0bcf-4ee9-b0af-5af91fcabaac, 04b6da4...</td>\n",
       "      <td>[b0b871a4-3737-4271-82bc-34bb29d0b1cb, e94dce6...</td>\n",
       "      <td>[50eb240c-0324-4285-a9c0-12d9c958c9f3, f13c3d1...</td>\n",
       "      <td>[0301, 0301, 0305, 0305, 0306, 0306]</td>\n",
       "      <td>[0301, 0305, 0306]</td>\n",
       "    </tr>\n",
       "    <tr>\n",
       "      <th>98</th>\n",
       "      <td>95cd67c8-01cd-41e1-946f-56a7d493db72</td>\n",
       "      <td>Willem Goossens</td>\n",
       "      <td>[01061006]</td>\n",
       "      <td>[]</td>\n",
       "      <td>[c5a47d38-b0f4-42b2-8005-75e1536b6b7f]</td>\n",
       "      <td>[]</td>\n",
       "      <td>[0106]</td>\n",
       "      <td>[0106]</td>\n",
       "    </tr>\n",
       "    <tr>\n",
       "      <th>99</th>\n",
       "      <td>6c1da1f4-ccc6-4a1d-a936-99bad3488dc6</td>\n",
       "      <td>Gilles Van Eygen</td>\n",
       "      <td>[02040501]</td>\n",
       "      <td>[638e1f28-aa54-49e7-aad0-0e7dfaabb824]</td>\n",
       "      <td>[49547dd0-08f7-4ae5-9dfa-c00833d30216]</td>\n",
       "      <td>[]</td>\n",
       "      <td>[0204]</td>\n",
       "      <td>[0204]</td>\n",
       "    </tr>\n",
       "  </tbody>\n",
       "</table>\n",
       "<p>98 rows × 8 columns</p>\n",
       "</div>"
      ],
      "text/plain": [
       "                                      ID                  Name  \\\n",
       "0   e52e68c1-8016-41de-b2c4-9f5bb0e0e0a8         Louis Daniels   \n",
       "1   edf5af41-98a3-4ec7-b55a-c4755b5dcf54       Benoit Vandaele   \n",
       "2   254755ed-d0a1-4419-b8d9-1551e4c85c88          Simon Remans   \n",
       "3   23755a31-f949-4eb8-8a3a-143d3e109edd             Seppe Top   \n",
       "4   11faf5ef-fc0c-49fb-8592-f2a5cffd953b  Santiago Mendoza Paz   \n",
       "..                                   ...                   ...   \n",
       "95  12a18f55-5c4c-4a81-a268-047505742c65   Anne-Lise Montreuil   \n",
       "96  7ae66f13-b62b-4901-9801-426ebf335a7f               Lin Nan   \n",
       "97  09397e92-0002-4e06-b738-fb52dcc86aa7           Astrid PUES   \n",
       "98  95cd67c8-01cd-41e1-946f-56a7d493db72       Willem Goossens   \n",
       "99  6c1da1f4-ccc6-4a1d-a936-99bad3488dc6      Gilles Van Eygen   \n",
       "\n",
       "                                          Disciplines  \\\n",
       "0                                [02080403, 04010202]   \n",
       "1                                          [05020104]   \n",
       "2                                          [01060102]   \n",
       "3                                          [04010203]   \n",
       "4                                          [02011299]   \n",
       "..                                                ...   \n",
       "95                                                 []   \n",
       "96                                                 []   \n",
       "97  [03019999, 03011499, 03050101, 03050102, 03061...   \n",
       "98                                         [01061006]   \n",
       "99                                         [02040501]   \n",
       "\n",
       "                                             Projects  \\\n",
       "0                                                  []   \n",
       "1                                                  []   \n",
       "2                                                  []   \n",
       "3                                                  []   \n",
       "4              [accc90f3-197e-472a-b253-8ec8a2ea6e68]   \n",
       "..                                                ...   \n",
       "95                                                 []   \n",
       "96                                                 []   \n",
       "97  [e260fb11-0bcf-4ee9-b0af-5af91fcabaac, 04b6da4...   \n",
       "98                                                 []   \n",
       "99             [638e1f28-aa54-49e7-aad0-0e7dfaabb824]   \n",
       "\n",
       "                                        Organisations  \\\n",
       "0              [c5a47d38-b0f4-42b2-8005-75e1536b6b7f]   \n",
       "1              [6986591b-f5db-4c0b-9a2d-ae1fe7684605]   \n",
       "2              [e1ff43de-1101-4978-b9c5-39bbacce0ef4]   \n",
       "3              [c5a47d38-b0f4-42b2-8005-75e1536b6b7f]   \n",
       "4   [6e6a5414-b4a8-4258-99b4-a5aca1124666, b3431ba...   \n",
       "..                                                ...   \n",
       "95  [b2e4f3b8-42d2-46f6-990b-b319460b2155, 637f61d...   \n",
       "96             [0016eb38-4374-4747-a43f-c408af2c2d70]   \n",
       "97  [b0b871a4-3737-4271-82bc-34bb29d0b1cb, e94dce6...   \n",
       "98             [c5a47d38-b0f4-42b2-8005-75e1536b6b7f]   \n",
       "99             [49547dd0-08f7-4ae5-9dfa-c00833d30216]   \n",
       "\n",
       "                                         Publications  \\\n",
       "0                                                  []   \n",
       "1                                                  []   \n",
       "2                                                  []   \n",
       "3                                                  []   \n",
       "4                                                  []   \n",
       "..                                                ...   \n",
       "95  [0c362b0a-ee5b-488d-be2f-03f4cae46bcc, book-co...   \n",
       "96                                                 []   \n",
       "97  [50eb240c-0324-4285-a9c0-12d9c958c9f3, f13c3d1...   \n",
       "98                                                 []   \n",
       "99                                                 []   \n",
       "\n",
       "                     Level-2 disciplines Unique level-2 disciplines  \n",
       "0                           [0208, 0401]               [0208, 0401]  \n",
       "1                                 [0502]                     [0502]  \n",
       "2                                 [0106]                     [0106]  \n",
       "3                                 [0401]                     [0401]  \n",
       "4                                 [0201]                     [0201]  \n",
       "..                                   ...                        ...  \n",
       "95                                    []                         []  \n",
       "96                                    []                         []  \n",
       "97  [0301, 0301, 0305, 0305, 0306, 0306]         [0301, 0305, 0306]  \n",
       "98                                [0106]                     [0106]  \n",
       "99                                [0204]                     [0204]  \n",
       "\n",
       "[98 rows x 8 columns]"
      ]
     },
     "execution_count": 44,
     "metadata": {},
     "output_type": "execute_result"
    }
   ],
   "source": [
    "persons"
   ]
  },
  {
   "cell_type": "code",
   "execution_count": 17,
   "metadata": {
    "scrolled": true
   },
   "outputs": [
    {
     "name": "stdout",
     "output_type": "stream",
     "text": [
      "The average number projects of a person is 0.5 .\n",
      "The median number projects of a person is 0.0 .\n",
      "The maximum number projects of a person is 9 .\n",
      "The number of person with 0 projects is 62.\n"
     ]
    }
   ],
   "source": [
    "print( 'The average number projects of a person is {} .'.format(persons['Projects'].apply(lambda x: len(x)).mean()))\n",
    "print( 'The median number projects of a person is {} .'.format(persons['Projects'].apply(lambda x: len(x)).median()))\n",
    "print( 'The maximum number projects of a person is {} .'.format(persons['Projects'].apply(lambda x: len(x)).max()))\n",
    "print( 'The number of person with 0 projects is {}.'.format(persons['Projects'].apply(lambda x: len(x) == 0).astype(int).sum()))"
   ]
  },
  {
   "cell_type": "code",
   "execution_count": 18,
   "metadata": {},
   "outputs": [
    {
     "name": "stdout",
     "output_type": "stream",
     "text": [
      "The average number of organisations of a person is 1.346938775510204 .\n",
      "The median number of organisations of a person is 1.0 .\n",
      "The maximum number of organisations of a person is 6 .\n",
      "The number of person with 0 organisations is 0.\n"
     ]
    }
   ],
   "source": [
    "print( 'The average number of organisations of a person is {} .'.format(persons['Organisations'].apply(lambda x: len(x)).mean()))\n",
    "print( 'The median number of organisations of a person is {} .'.format(persons['Organisations'].apply(lambda x: len(x)).median()))\n",
    "print( 'The maximum number of organisations of a person is {} .'.format(persons['Organisations'].apply(lambda x: len(x)).max()))\n",
    "print( 'The number of person with 0 organisations is {}.'.format(persons['Organisations'].apply(lambda x: len(x) == 0).astype(int).sum()))"
   ]
  },
  {
   "cell_type": "code",
   "execution_count": 19,
   "metadata": {},
   "outputs": [
    {
     "name": "stdout",
     "output_type": "stream",
     "text": [
      "The average number of publications of a person is 5.081632653061225 .\n",
      "The median number of publications of a person is 0.0 .\n",
      "The maximum number of publications of a person is 205 .\n",
      "The number of person with 0 publications is 65.\n"
     ]
    }
   ],
   "source": [
    "print( 'The average number of publications of a person is {} .'.format(persons['Publications'].apply(lambda x: len(x)).mean()))\n",
    "print( 'The median number of publications of a person is {} .'.format(persons['Publications'].apply(lambda x: len(x)).median()))\n",
    "print( 'The maximum number of publications of a person is {} .'.format(persons['Publications'].apply(lambda x: len(x)).max()))\n",
    "print( 'The number of person with 0 publications is {}.'.format(persons['Publications'].apply(lambda x: len(x) == 0).astype(int).sum()))"
   ]
  },
  {
   "cell_type": "code",
   "execution_count": 46,
   "metadata": {
    "scrolled": true
   },
   "outputs": [
    {
     "name": "stdout",
     "output_type": "stream",
     "text": [
      "The average number of disciplines of a person is 2.1020408163265305 .\n",
      "The median number of disciplines of a person is 1.0 .\n",
      "The maximum number of disciplines of a person is 12 .\n",
      "The number of person with 0 disciplines is 16.\n"
     ]
    }
   ],
   "source": [
    "print( 'The average number of disciplines of a person is {} .'.format(persons['Disciplines'].apply(lambda x: len(x)).mean()))\n",
    "print( 'The median number of disciplines of a person is {} .'.format(persons['Disciplines'].apply(lambda x: len(x)).median()))\n",
    "print( 'The maximum number of disciplines of a person is {} .'.format(persons['Disciplines'].apply(lambda x: len(x)).max()))\n",
    "print( 'The number of person with 0 disciplines is {}.'.format(persons['Disciplines'].apply(lambda x: len(x) == 0).astype(int).sum()))"
   ]
  },
  {
   "cell_type": "code",
   "execution_count": 45,
   "metadata": {
    "scrolled": false
   },
   "outputs": [
    {
     "name": "stdout",
     "output_type": "stream",
     "text": [
      "The average number of Unique level-2 disciplines of a person is 1.2142857142857142 .\n",
      "The median number of Unique level-2 disciplines of a person is 1.0 .\n",
      "The maximum number of Unique level-2 disciplines of a person is 5 .\n",
      "The number of person with 0 Unique level-2 disciplines is 16.\n"
     ]
    }
   ],
   "source": [
    "print( 'The average number of Unique level-2 disciplines of a person is {} .'.format(persons['Unique level-2 disciplines'].apply(lambda x: len(x)).mean()))\n",
    "print( 'The median number of Unique level-2 disciplines of a person is {} .'.format(persons['Unique level-2 disciplines'].apply(lambda x: len(x)).median()))\n",
    "print( 'The maximum number of Unique level-2 disciplines of a person is {} .'.format(persons['Unique level-2 disciplines'].apply(lambda x: len(x)).max()))\n",
    "print( 'The number of person with 0 Unique level-2 disciplines is {}.'.format(persons['Unique level-2 disciplines'].apply(lambda x: len(x) == 0).astype(int).sum()))"
   ]
  },
  {
   "cell_type": "code",
   "execution_count": 122,
   "metadata": {
    "scrolled": true
   },
   "outputs": [],
   "source": [
    "persons_count=persons.copy()\n",
    "persons_count['Unique level-2 disciplines']=persons['Unique level-2 disciplines'].apply(lambda x: len(x))\n",
    "persons_count['Level-2 disciplines']=persons['Level-2 disciplines'].apply(lambda x: len(x))\n",
    "persons_count['Projects']=persons['Projects'].apply(lambda x: len(x))\n",
    "persons_count['Organisations']=persons['Organisations'].apply(lambda x: len(x))\n",
    "persons_count['Publications']=persons['Publications'].apply(lambda x: len(x))\n",
    "\n",
    "cols= [\n",
    " 'Level-2 disciplines',\n",
    "'Unique level-2 disciplines',\n",
    " 'Projects','Organisations','Publications']\n",
    "persons_count=persons_count[cols]\n",
    "\n"
   ]
  },
  {
   "cell_type": "code",
   "execution_count": 133,
   "metadata": {},
   "outputs": [
    {
     "data": {
      "image/png": "[encoded data removed]",
      "text/plain": [
       "<Figure size 864x576 with 6 Axes>"
      ]
     },
     "metadata": {},
     "output_type": "display_data"
    }
   ],
   "source": [
    "sns.set(rc={\"figure.figsize\": (12,8)})\n",
    "\n",
    "fig,axes=plt.subplots(2,3)\n",
    "sns.histplot(persons_count, x='Level-2 disciplines',binwidth=1, discrete=True, ax=axes[0,0])\n",
    "sns.histplot(persons_count, x='Unique level-2 disciplines',binwidth=1,discrete=True,  ax=axes[0,1])\n",
    "sns.histplot(persons_count, x='Organisations',binwidth=1,discrete=True, ax=axes[1,0])\n",
    "sns.histplot(persons_count, x='Projects',binwidth=1,discrete=True, ax=axes[1,1])\n",
    "sns.histplot(persons_count, x='Publications',binwidth=1,discrete=True, ax=axes[1,2])\n",
    "plt.show()"
   ]
  },
  {
   "cell_type": "code",
   "execution_count": 124,
   "metadata": {},
   "outputs": [
    {
     "data": {
      "image/png": "[encoded data removed]",
      "text/plain": [
       "<Figure size 648x432 with 2 Axes>"
      ]
     },
     "metadata": {},
     "output_type": "display_data"
    }
   ],
   "source": [
    "sns.set(rc={\"figure.figsize\": (9,6)})\n",
    "corrMatrix = persons_count.corr()\n",
    "sns.heatmap(corrMatrix, annot=True)\n",
    "plt.show()"
   ]
  },
  {
   "cell_type": "markdown",
   "metadata": {},
   "source": [
    "## Publications"
   ]
  },
  {
   "cell_type": "code",
   "execution_count": 47,
   "metadata": {},
   "outputs": [],
   "source": [
    "publications=publications.drop(publications[publications.Name == 'ERROR'].index)"
   ]
  },
  {
   "cell_type": "code",
   "execution_count": 48,
   "metadata": {},
   "outputs": [],
   "source": [
    "publications['WoS disciplines'] = publications['WoS disciplines'].apply(lambda x: literal_eval(x))\n",
    "publications['Disciplines'] = publications['Disciplines'].apply(lambda x: literal_eval(x))\n",
    "publications['Persons'] = publications['Persons'].apply(lambda x: unique(literal_eval(x)))\n",
    "publications['Level-2 disciplines']=publications['Disciplines'].apply(lambda x: bring_to_level_2(x))\n",
    "publications['Unique level-2 disciplines']=publications['Disciplines'].apply(lambda x: unique(bring_to_level_2(x)))"
   ]
  },
  {
   "cell_type": "code",
   "execution_count": 49,
   "metadata": {
    "scrolled": true
   },
   "outputs": [
    {
     "data": {
      "text/html": [
       "<div>\n",
       "<style scoped>\n",
       "    .dataframe tbody tr th:only-of-type {\n",
       "        vertical-align: middle;\n",
       "    }\n",
       "\n",
       "    .dataframe tbody tr th {\n",
       "        vertical-align: top;\n",
       "    }\n",
       "\n",
       "    .dataframe thead th {\n",
       "        text-align: right;\n",
       "    }\n",
       "</style>\n",
       "<table border=\"1\" class=\"dataframe\">\n",
       "  <thead>\n",
       "    <tr style=\"text-align: right;\">\n",
       "      <th></th>\n",
       "      <th>ID</th>\n",
       "      <th>Name</th>\n",
       "      <th>WoS disciplines</th>\n",
       "      <th>Disciplines</th>\n",
       "      <th>Persons</th>\n",
       "      <th>Level-2 disciplines</th>\n",
       "      <th>Unique level-2 disciplines</th>\n",
       "    </tr>\n",
       "  </thead>\n",
       "  <tbody>\n",
       "    <tr>\n",
       "      <th>1</th>\n",
       "      <td>28f39f3f-35fe-435f-8d8f-2818b0d42546</td>\n",
       "      <td>Directional and oscillating residual stress on...</td>\n",
       "      <td>[000464086500026]</td>\n",
       "      <td>[0104]</td>\n",
       "      <td>[24b7a366-5503-4d37-91bc-59f5ec01e1ef]</td>\n",
       "      <td>[0104]</td>\n",
       "      <td>[0104]</td>\n",
       "    </tr>\n",
       "    <tr>\n",
       "      <th>3</th>\n",
       "      <td>5a9303c2-006d-4eb6-b4d8-51248b34354d</td>\n",
       "      <td>Artikel 22bis G.W. : naar een integrale en doe...</td>\n",
       "      <td>[]</td>\n",
       "      <td>[]</td>\n",
       "      <td>[240b1fe3-4b27-47ca-91e4-8ea47f7b859e]</td>\n",
       "      <td>[]</td>\n",
       "      <td>[]</td>\n",
       "    </tr>\n",
       "    <tr>\n",
       "      <th>4</th>\n",
       "      <td>9d34269e-bc2b-4d81-9027-6c3b0b520004</td>\n",
       "      <td>Primary prevention of musculoskeletal sports i...</td>\n",
       "      <td>[]</td>\n",
       "      <td>[]</td>\n",
       "      <td>[55bd17d0-9d99-4765-8d67-840bfb5966e5]</td>\n",
       "      <td>[]</td>\n",
       "      <td>[]</td>\n",
       "    </tr>\n",
       "    <tr>\n",
       "      <th>5</th>\n",
       "      <td>18b2f068-1854-4720-9fe4-6d2925ccd3db</td>\n",
       "      <td>Report of the IFCC working group for standardi...</td>\n",
       "      <td>[000278145000012]</td>\n",
       "      <td>[0104, 0306]</td>\n",
       "      <td>[93096693-1f94-4e19-9c23-ef61c3c6ae9a]</td>\n",
       "      <td>[0104, 0306]</td>\n",
       "      <td>[0104, 0306]</td>\n",
       "    </tr>\n",
       "    <tr>\n",
       "      <th>7</th>\n",
       "      <td>4938d13a-2965-442e-b015-ac6dfdb1c760</td>\n",
       "      <td>Choke or Shine? Quantifying Soccer Players&amp;#39...</td>\n",
       "      <td>[]</td>\n",
       "      <td>[]</td>\n",
       "      <td>[e281480c-7795-4730-95a1-40610681d757, d8fb9c5...</td>\n",
       "      <td>[]</td>\n",
       "      <td>[]</td>\n",
       "    </tr>\n",
       "    <tr>\n",
       "      <th>...</th>\n",
       "      <td>...</td>\n",
       "      <td>...</td>\n",
       "      <td>...</td>\n",
       "      <td>...</td>\n",
       "      <td>...</td>\n",
       "      <td>...</td>\n",
       "      <td>...</td>\n",
       "    </tr>\n",
       "    <tr>\n",
       "      <th>95</th>\n",
       "      <td>44d7df42-ea6f-48c9-ac5d-e5e01bd108f7</td>\n",
       "      <td>Principles of supernova-driven winds</td>\n",
       "      <td>[000305070900048]</td>\n",
       "      <td>[0103]</td>\n",
       "      <td>[]</td>\n",
       "      <td>[0103]</td>\n",
       "      <td>[0103]</td>\n",
       "    </tr>\n",
       "    <tr>\n",
       "      <th>96</th>\n",
       "      <td>fd80ebb1-f585-40b1-a22c-d2108b24d870</td>\n",
       "      <td>Membrane amplitude and triaxial stress in twis...</td>\n",
       "      <td>[000339995800001]</td>\n",
       "      <td>[0104, 0103, 0103]</td>\n",
       "      <td>[86e4b26b-4015-4c01-8208-85d775c37811, 5b7de49...</td>\n",
       "      <td>[0104, 0103, 0103]</td>\n",
       "      <td>[0104, 0103]</td>\n",
       "    </tr>\n",
       "    <tr>\n",
       "      <th>97</th>\n",
       "      <td>49863068-4906-4b0a-a550-505a3f5f946a</td>\n",
       "      <td>Detection of HPV DNA in urine and monitoring t...</td>\n",
       "      <td>[]</td>\n",
       "      <td>[]</td>\n",
       "      <td>[249f9a18-4118-4863-aaf4-80dadb9f955a]</td>\n",
       "      <td>[]</td>\n",
       "      <td>[]</td>\n",
       "    </tr>\n",
       "    <tr>\n",
       "      <th>98</th>\n",
       "      <td>3a754780-0b5a-4fb4-9f8f-0f2b2fc39dcf</td>\n",
       "      <td>Executing code in the past: efficient in-memor...</td>\n",
       "      <td>[000281631100022]</td>\n",
       "      <td>[]</td>\n",
       "      <td>[fe02e952-a317-45e2-b9ff-abfc8b2194bd]</td>\n",
       "      <td>[]</td>\n",
       "      <td>[]</td>\n",
       "    </tr>\n",
       "    <tr>\n",
       "      <th>99</th>\n",
       "      <td>7dc0a1cf-c431-472b-a9c9-13b2685edd36</td>\n",
       "      <td>Internal bruising prediction in watermelon com...</td>\n",
       "      <td>[000253013400015]</td>\n",
       "      <td>[0401, 0104]</td>\n",
       "      <td>[26aa611a-c3c1-4974-830b-053f8f36b4ae, 2ba33d6...</td>\n",
       "      <td>[0401, 0104]</td>\n",
       "      <td>[0401, 0104]</td>\n",
       "    </tr>\n",
       "  </tbody>\n",
       "</table>\n",
       "<p>81 rows × 7 columns</p>\n",
       "</div>"
      ],
      "text/plain": [
       "                                      ID  \\\n",
       "1   28f39f3f-35fe-435f-8d8f-2818b0d42546   \n",
       "3   5a9303c2-006d-4eb6-b4d8-51248b34354d   \n",
       "4   9d34269e-bc2b-4d81-9027-6c3b0b520004   \n",
       "5   18b2f068-1854-4720-9fe4-6d2925ccd3db   \n",
       "7   4938d13a-2965-442e-b015-ac6dfdb1c760   \n",
       "..                                   ...   \n",
       "95  44d7df42-ea6f-48c9-ac5d-e5e01bd108f7   \n",
       "96  fd80ebb1-f585-40b1-a22c-d2108b24d870   \n",
       "97  49863068-4906-4b0a-a550-505a3f5f946a   \n",
       "98  3a754780-0b5a-4fb4-9f8f-0f2b2fc39dcf   \n",
       "99  7dc0a1cf-c431-472b-a9c9-13b2685edd36   \n",
       "\n",
       "                                                 Name    WoS disciplines  \\\n",
       "1   Directional and oscillating residual stress on...  [000464086500026]   \n",
       "3   Artikel 22bis G.W. : naar een integrale en doe...                 []   \n",
       "4   Primary prevention of musculoskeletal sports i...                 []   \n",
       "5   Report of the IFCC working group for standardi...  [000278145000012]   \n",
       "7   Choke or Shine? Quantifying Soccer Players&#39...                 []   \n",
       "..                                                ...                ...   \n",
       "95               Principles of supernova-driven winds  [000305070900048]   \n",
       "96  Membrane amplitude and triaxial stress in twis...  [000339995800001]   \n",
       "97  Detection of HPV DNA in urine and monitoring t...                 []   \n",
       "98  Executing code in the past: efficient in-memor...  [000281631100022]   \n",
       "99  Internal bruising prediction in watermelon com...  [000253013400015]   \n",
       "\n",
       "           Disciplines                                            Persons  \\\n",
       "1               [0104]             [24b7a366-5503-4d37-91bc-59f5ec01e1ef]   \n",
       "3                   []             [240b1fe3-4b27-47ca-91e4-8ea47f7b859e]   \n",
       "4                   []             [55bd17d0-9d99-4765-8d67-840bfb5966e5]   \n",
       "5         [0104, 0306]             [93096693-1f94-4e19-9c23-ef61c3c6ae9a]   \n",
       "7                   []  [e281480c-7795-4730-95a1-40610681d757, d8fb9c5...   \n",
       "..                 ...                                                ...   \n",
       "95              [0103]                                                 []   \n",
       "96  [0104, 0103, 0103]  [86e4b26b-4015-4c01-8208-85d775c37811, 5b7de49...   \n",
       "97                  []             [249f9a18-4118-4863-aaf4-80dadb9f955a]   \n",
       "98                  []             [fe02e952-a317-45e2-b9ff-abfc8b2194bd]   \n",
       "99        [0401, 0104]  [26aa611a-c3c1-4974-830b-053f8f36b4ae, 2ba33d6...   \n",
       "\n",
       "   Level-2 disciplines Unique level-2 disciplines  \n",
       "1               [0104]                     [0104]  \n",
       "3                   []                         []  \n",
       "4                   []                         []  \n",
       "5         [0104, 0306]               [0104, 0306]  \n",
       "7                   []                         []  \n",
       "..                 ...                        ...  \n",
       "95              [0103]                     [0103]  \n",
       "96  [0104, 0103, 0103]               [0104, 0103]  \n",
       "97                  []                         []  \n",
       "98                  []                         []  \n",
       "99        [0401, 0104]               [0401, 0104]  \n",
       "\n",
       "[81 rows x 7 columns]"
      ]
     },
     "execution_count": 49,
     "metadata": {},
     "output_type": "execute_result"
    }
   ],
   "source": [
    "publications"
   ]
  },
  {
   "cell_type": "code",
   "execution_count": 25,
   "metadata": {
    "scrolled": false
   },
   "outputs": [
    {
     "name": "stdout",
     "output_type": "stream",
     "text": [
      "The average number of people working on a publication is 2.0 .\n",
      "The median number of people working on a publication is 1.0 .\n",
      "The maximum number of people working on a publication is 10 .\n",
      "The number of publication with 0 people is 5.\n"
     ]
    }
   ],
   "source": [
    "print( 'The average number of people working on a publication is {} .'.format(publications['Persons'].apply(lambda x: len(x)).mean()))\n",
    "print( 'The median number of people working on a publication is {} .'.format(publications['Persons'].apply(lambda x: len(x)).median()))\n",
    "print( 'The maximum number of people working on a publication is {} .'.format(publications['Persons'].apply(lambda x: len(x)).max()))\n",
    "print( 'The number of publication with 0 people is {}.'.format(publications['Persons'].apply(lambda x: len(x) == 0).astype(int).sum()))"
   ]
  },
  {
   "cell_type": "code",
   "execution_count": 52,
   "metadata": {},
   "outputs": [
    {
     "name": "stdout",
     "output_type": "stream",
     "text": [
      "The average number of WoS disciplines of a publication is 0.5308641975308642 .\n",
      "The median number of WoS disciplines of a publication is 1.0 .\n",
      "The maximum number of WoS disciplines of a publication is 1 .\n",
      "The number of publication with 0 WoS disciplines is 38.\n"
     ]
    }
   ],
   "source": [
    "print( 'The average number of WoS disciplines of a publication is {} .'.format(publications['WoS disciplines'].apply(lambda x: len(x)).mean()))\n",
    "print( 'The median number of WoS disciplines of a publication is {} .'.format(publications['WoS disciplines'].apply(lambda x: len(x)).median()))\n",
    "print( 'The maximum number of WoS disciplines of a publication is {} .'.format(publications['WoS disciplines'].apply(lambda x: len(x)).max()))\n",
    "print( 'The number of publication with 0 WoS disciplines is {}.'.format(publications['WoS disciplines'].apply(lambda x: len(x) == 0).astype(int).sum()))"
   ]
  },
  {
   "cell_type": "code",
   "execution_count": 51,
   "metadata": {
    "scrolled": true
   },
   "outputs": [
    {
     "name": "stdout",
     "output_type": "stream",
     "text": [
      "The average number of disciplines of a publication is 0.7283950617283951 .\n",
      "The median number of disciplines of a publication is 0.0 .\n",
      "The maximum number of disciplines of a publication is 3 .\n",
      "The number of publication with 0 disciplines is 43.\n"
     ]
    }
   ],
   "source": [
    "print( 'The average number of disciplines of a publication is {} .'.format(publications['Disciplines'].apply(lambda x: len(x)).mean()))\n",
    "print( 'The median number of disciplines of a publication is {} .'.format(publications['Disciplines'].apply(lambda x: len(x)).median()))\n",
    "print( 'The maximum number of disciplines of a publication is {} .'.format(publications['Disciplines'].apply(lambda x: len(x)).max()))\n",
    "print( 'The number of publication with 0 disciplines is {}.'.format(publications['Disciplines'].apply(lambda x: len(x) == 0).astype(int).sum()))"
   ]
  },
  {
   "cell_type": "code",
   "execution_count": 50,
   "metadata": {
    "scrolled": true
   },
   "outputs": [
    {
     "name": "stdout",
     "output_type": "stream",
     "text": [
      "The average number of Unique level-2 disciplines of a publication is 0.691358024691358 .\n",
      "The median number of Unique level-2 disciplines of a publication is 0.0 .\n",
      "The maximum number of Unique level-2 disciplines of a publication is 3 .\n",
      "The number of publication with 0 Unique level-2 disciplines is 43.\n"
     ]
    }
   ],
   "source": [
    "print( 'The average number of Unique level-2 disciplines of a publication is {} .'.format(publications['Unique level-2 disciplines'].apply(lambda x: len(x)).mean()))\n",
    "print( 'The median number of Unique level-2 disciplines of a publication is {} .'.format(publications['Unique level-2 disciplines'].apply(lambda x: len(x)).median()))\n",
    "print( 'The maximum number of Unique level-2 disciplines of a publication is {} .'.format(publications['Unique level-2 disciplines'].apply(lambda x: len(x)).max()))\n",
    "print( 'The number of publication with 0 Unique level-2 disciplines is {}.'.format(publications['Unique level-2 disciplines'].apply(lambda x: len(x) == 0).astype(int).sum()))"
   ]
  },
  {
   "cell_type": "markdown",
   "metadata": {},
   "source": [
    "## Organisations"
   ]
  },
  {
   "cell_type": "code",
   "execution_count": 29,
   "metadata": {},
   "outputs": [],
   "source": [
    "organisations=organisations.drop(organisations[organisations.Name == 'ERROR'].index)"
   ]
  },
  {
   "cell_type": "code",
   "execution_count": 53,
   "metadata": {},
   "outputs": [],
   "source": [
    "organisations['Disciplines'] = organisations['Disciplines'].apply(lambda x: literal_eval(x))\n",
    "organisations['Level-2 disciplines']=organisations['Disciplines'].apply(lambda x: bring_to_level_2(x))\n",
    "organisations['Unique level-2 disciplines']=organisations['Disciplines'].apply(lambda x: unique(bring_to_level_2(x)))"
   ]
  },
  {
   "cell_type": "code",
   "execution_count": 54,
   "metadata": {
    "scrolled": true
   },
   "outputs": [
    {
     "data": {
      "text/html": [
       "<div>\n",
       "<style scoped>\n",
       "    .dataframe tbody tr th:only-of-type {\n",
       "        vertical-align: middle;\n",
       "    }\n",
       "\n",
       "    .dataframe tbody tr th {\n",
       "        vertical-align: top;\n",
       "    }\n",
       "\n",
       "    .dataframe thead th {\n",
       "        text-align: right;\n",
       "    }\n",
       "</style>\n",
       "<table border=\"1\" class=\"dataframe\">\n",
       "  <thead>\n",
       "    <tr style=\"text-align: right;\">\n",
       "      <th></th>\n",
       "      <th>ID</th>\n",
       "      <th>Name</th>\n",
       "      <th>Disciplines</th>\n",
       "      <th>Level-2 disciplines</th>\n",
       "      <th>Unique level-2 disciplines</th>\n",
       "    </tr>\n",
       "  </thead>\n",
       "  <tbody>\n",
       "    <tr>\n",
       "      <th>0</th>\n",
       "      <td>2d420102-aa8a-4417-8d8b-9c0ad8a863b2</td>\n",
       "      <td>Laboratory for Molecular Cancer Biology (VIB-K...</td>\n",
       "      <td>[030122, 030124, 030622, 030624]</td>\n",
       "      <td>[0301, 0301, 0306, 0306]</td>\n",
       "      <td>[0301, 0306]</td>\n",
       "    </tr>\n",
       "    <tr>\n",
       "      <th>1</th>\n",
       "      <td>4a2bea7a-85de-48af-884c-90cd66ea82b5</td>\n",
       "      <td>Applied mathematics</td>\n",
       "      <td>[010103, 010203, 010207, 010107]</td>\n",
       "      <td>[0101, 0102, 0102, 0101]</td>\n",
       "      <td>[0101, 0102]</td>\n",
       "    </tr>\n",
       "    <tr>\n",
       "      <th>2</th>\n",
       "      <td>4379ef55-75db-413e-8c9f-6c9a4e5eeaaa</td>\n",
       "      <td>Internationalization Services of the Faculty B...</td>\n",
       "      <td>[040103, 050702, 050703, 050799, 050701, 05070...</td>\n",
       "      <td>[0401, 0507, 0507, 0507, 0507, 0507, 0401, 040...</td>\n",
       "      <td>[0401, 0507]</td>\n",
       "    </tr>\n",
       "    <tr>\n",
       "      <th>3</th>\n",
       "      <td>64fdfcc9-49ff-441a-8deb-a6d63c55004f</td>\n",
       "      <td>Service for Educational Support Faculty PS</td>\n",
       "      <td>[050305, 059999]</td>\n",
       "      <td>[0503, 0599]</td>\n",
       "      <td>[0503, 0599]</td>\n",
       "    </tr>\n",
       "    <tr>\n",
       "      <th>4</th>\n",
       "      <td>e3e38c77-2449-4c5b-8f74-496250e3206f</td>\n",
       "      <td>Behavioural Sciences - Learning</td>\n",
       "      <td>[050106, 050108, 050301, 050305]</td>\n",
       "      <td>[0501, 0501, 0503, 0503]</td>\n",
       "      <td>[0501, 0503]</td>\n",
       "    </tr>\n",
       "    <tr>\n",
       "      <th>...</th>\n",
       "      <td>...</td>\n",
       "      <td>...</td>\n",
       "      <td>...</td>\n",
       "      <td>...</td>\n",
       "      <td>...</td>\n",
       "    </tr>\n",
       "    <tr>\n",
       "      <th>95</th>\n",
       "      <td>8a3a4a93-f21e-4c20-8488-2e0d931dab93</td>\n",
       "      <td>General and Biological Chemistry</td>\n",
       "      <td>[010611, 030104, 030107]</td>\n",
       "      <td>[0106, 0301, 0301]</td>\n",
       "      <td>[0106, 0301]</td>\n",
       "    </tr>\n",
       "    <tr>\n",
       "      <th>96</th>\n",
       "      <td>35323028-a460-4f4d-8d38-b82c44a44f53</td>\n",
       "      <td>Location and Distribution</td>\n",
       "      <td>[0502]</td>\n",
       "      <td>[0502]</td>\n",
       "      <td>[0502]</td>\n",
       "    </tr>\n",
       "    <tr>\n",
       "      <th>97</th>\n",
       "      <td>be478408-0e76-4487-8291-93dc90b4e346</td>\n",
       "      <td>Constitutional and Administrative Law</td>\n",
       "      <td>[0505]</td>\n",
       "      <td>[0505]</td>\n",
       "      <td>[0505]</td>\n",
       "    </tr>\n",
       "    <tr>\n",
       "      <th>98</th>\n",
       "      <td>1a92288a-f2fd-45b0-9f69-bde917d148e8</td>\n",
       "      <td>Movement and Sports Training</td>\n",
       "      <td>[050301]</td>\n",
       "      <td>[0503]</td>\n",
       "      <td>[0503]</td>\n",
       "    </tr>\n",
       "    <tr>\n",
       "      <th>99</th>\n",
       "      <td>c1717e04-32b7-4f28-a824-32ce0dce3845</td>\n",
       "      <td>Centre for Juridical Informatics</td>\n",
       "      <td>[0603]</td>\n",
       "      <td>[0603]</td>\n",
       "      <td>[0603]</td>\n",
       "    </tr>\n",
       "  </tbody>\n",
       "</table>\n",
       "<p>100 rows × 5 columns</p>\n",
       "</div>"
      ],
      "text/plain": [
       "                                      ID  \\\n",
       "0   2d420102-aa8a-4417-8d8b-9c0ad8a863b2   \n",
       "1   4a2bea7a-85de-48af-884c-90cd66ea82b5   \n",
       "2   4379ef55-75db-413e-8c9f-6c9a4e5eeaaa   \n",
       "3   64fdfcc9-49ff-441a-8deb-a6d63c55004f   \n",
       "4   e3e38c77-2449-4c5b-8f74-496250e3206f   \n",
       "..                                   ...   \n",
       "95  8a3a4a93-f21e-4c20-8488-2e0d931dab93   \n",
       "96  35323028-a460-4f4d-8d38-b82c44a44f53   \n",
       "97  be478408-0e76-4487-8291-93dc90b4e346   \n",
       "98  1a92288a-f2fd-45b0-9f69-bde917d148e8   \n",
       "99  c1717e04-32b7-4f28-a824-32ce0dce3845   \n",
       "\n",
       "                                                 Name  \\\n",
       "0   Laboratory for Molecular Cancer Biology (VIB-K...   \n",
       "1                                 Applied mathematics   \n",
       "2   Internationalization Services of the Faculty B...   \n",
       "3          Service for Educational Support Faculty PS   \n",
       "4                     Behavioural Sciences - Learning   \n",
       "..                                                ...   \n",
       "95                   General and Biological Chemistry   \n",
       "96                          Location and Distribution   \n",
       "97              Constitutional and Administrative Law   \n",
       "98                       Movement and Sports Training   \n",
       "99                   Centre for Juridical Informatics   \n",
       "\n",
       "                                          Disciplines  \\\n",
       "0                    [030122, 030124, 030622, 030624]   \n",
       "1                    [010103, 010203, 010207, 010107]   \n",
       "2   [040103, 050702, 050703, 050799, 050701, 05070...   \n",
       "3                                    [050305, 059999]   \n",
       "4                    [050106, 050108, 050301, 050305]   \n",
       "..                                                ...   \n",
       "95                           [010611, 030104, 030107]   \n",
       "96                                             [0502]   \n",
       "97                                             [0505]   \n",
       "98                                           [050301]   \n",
       "99                                             [0603]   \n",
       "\n",
       "                                  Level-2 disciplines  \\\n",
       "0                            [0301, 0301, 0306, 0306]   \n",
       "1                            [0101, 0102, 0102, 0101]   \n",
       "2   [0401, 0507, 0507, 0507, 0507, 0507, 0401, 040...   \n",
       "3                                        [0503, 0599]   \n",
       "4                            [0501, 0501, 0503, 0503]   \n",
       "..                                                ...   \n",
       "95                                 [0106, 0301, 0301]   \n",
       "96                                             [0502]   \n",
       "97                                             [0505]   \n",
       "98                                             [0503]   \n",
       "99                                             [0603]   \n",
       "\n",
       "   Unique level-2 disciplines  \n",
       "0                [0301, 0306]  \n",
       "1                [0101, 0102]  \n",
       "2                [0401, 0507]  \n",
       "3                [0503, 0599]  \n",
       "4                [0501, 0503]  \n",
       "..                        ...  \n",
       "95               [0106, 0301]  \n",
       "96                     [0502]  \n",
       "97                     [0505]  \n",
       "98                     [0503]  \n",
       "99                     [0603]  \n",
       "\n",
       "[100 rows x 5 columns]"
      ]
     },
     "execution_count": 54,
     "metadata": {},
     "output_type": "execute_result"
    }
   ],
   "source": [
    "organisations"
   ]
  },
  {
   "cell_type": "code",
   "execution_count": 55,
   "metadata": {},
   "outputs": [
    {
     "name": "stdout",
     "output_type": "stream",
     "text": [
      "The average number of disciplines of a organisation is 3.21 .\n",
      "The median number of disciplines of a organisation is 2.0 .\n",
      "The maximum number of disciplines of a organisation is 29 .\n",
      "The number of organisation with 0 disciplines is 24.\n"
     ]
    }
   ],
   "source": [
    "print( 'The average number of disciplines of a organisation is {} .'.format(organisations['Disciplines'].apply(lambda x: len(x)).mean()))\n",
    "print( 'The median number of disciplines of a organisation is {} .'.format(organisations['Disciplines'].apply(lambda x: len(x)).median()))\n",
    "print( 'The maximum number of disciplines of a organisation is {} .'.format(organisations['Disciplines'].apply(lambda x: len(x)).max()))\n",
    "print( 'The number of organisation with 0 disciplines is {}.'.format(organisations['Disciplines'].apply(lambda x: len(x) == 0).astype(int).sum()))"
   ]
  },
  {
   "cell_type": "code",
   "execution_count": 56,
   "metadata": {
    "scrolled": false
   },
   "outputs": [
    {
     "name": "stdout",
     "output_type": "stream",
     "text": [
      "The average number of Unique level-2 disciplines of a organisation is 1.36 .\n",
      "The median number of Unique level-2 disciplines of a organisation is 1.0 .\n",
      "The maximum number of Unique level-2 disciplines of a organisation is 7 .\n",
      "The number of organisation with 0 Unique level-2 disciplines is 24.\n"
     ]
    }
   ],
   "source": [
    "print( 'The average number of Unique level-2 disciplines of a organisation is {} .'.format(organisations['Unique level-2 disciplines'].apply(lambda x: len(x)).mean()))\n",
    "print( 'The median number of Unique level-2 disciplines of a organisation is {} .'.format(organisations['Unique level-2 disciplines'].apply(lambda x: len(x)).median()))\n",
    "print( 'The maximum number of Unique level-2 disciplines of a organisation is {} .'.format(organisations['Unique level-2 disciplines'].apply(lambda x: len(x)).max()))\n",
    "print( 'The number of organisation with 0 Unique level-2 disciplines is {}.'.format(organisations['Unique level-2 disciplines'].apply(lambda x: len(x) == 0).astype(int).sum()))"
   ]
  }
 ],
 "metadata": {
  "kernelspec": {
   "display_name": "Python 3",
   "language": "python",
   "name": "python3"
  },
  "language_info": {
   "codemirror_mode": {
    "name": "ipython",
    "version": 3
   },
   "file_extension": ".py",
   "mimetype": "text/x-python",
   "name": "python",
   "nbconvert_exporter": "python",
   "pygments_lexer": "ipython3",
   "version": "3.8.5"
  }
 },
 "nbformat": 4,
 "nbformat_minor": 4
}
